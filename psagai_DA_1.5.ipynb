{
 "cells": [
  {
   "cell_type": "markdown",
   "id": "63e14807",
   "metadata": {},
   "source": [
    "# Mental Health in the Tech Industry\n",
    "![Superhero Data Analyst](mental_health.png)\n",
    "\n",
    "<p style=\"text-indent: 40px;\">\n",
    "    The tech industry is a crucial part of our economy, with businesses increasingly relying on technology as digitization becomes the norm. However, for employees, this can mean long hours and the challenge of solving complex problems, which can eventually lead to mental health issues in this rapidly growing field.\n",
    "</p>\n",
    "<p style=\"text-indent: 40px;\">\n",
    "  I've been hired by Google to analyze mental health surveys and identify the risk factors contributing to these issues. My goal is to provide insights into where employers should invest more to support their workforce and promote better mental health.\n",
    "</p>\n",
    "<br>\n",
    "\n",
    "## The dataset.\n",
    "Google has provided me with a dataset of mental health survey data for the years 2014 and 2016-2019.<br><br>\n",
    "They uploaded it on Kaggle for public use:<br>\n",
    "https://www.kaggle.com/datasets/anth7310/mental-health-in-the-tech-industry\n",
    "<br><br>\n",
    "## Data analysis\n",
    "\n",
    "1. Loading the data\n",
    "2. Data cleaning\n",
    "3. Basic metrics\n",
    "4. Main analysis\n",
    "5. Summary"
   ]
  },
  {
   "cell_type": "markdown",
   "id": "739bc97a",
   "metadata": {},
   "source": [
    "First we handle the imports."
   ]
  },
  {
   "cell_type": "code",
   "execution_count": 58,
   "id": "64c53836",
   "metadata": {
    "scrolled": false
   },
   "outputs": [
    {
     "name": "stdout",
     "output_type": "stream",
     "text": [
      "The jupyter_black extension is already loaded. To reload it, use:\n",
      "  %reload_ext jupyter_black\n"
     ]
    }
   ],
   "source": [
    "import pandas as pd\n",
    "import sqlite3\n",
    "import matplotlib.pyplot as plt\n",
    "import seaborn as sns\n",
    "import black\n",
    "import numpy as np\n",
    "\n",
    "%load_ext jupyter_black"
   ]
  },
  {
   "cell_type": "markdown",
   "id": "62362921",
   "metadata": {},
   "source": [
    "And set matplotlib, pandas and seaborn display parameters."
   ]
  },
  {
   "cell_type": "code",
   "execution_count": 2,
   "id": "7146f6d5",
   "metadata": {},
   "outputs": [],
   "source": [
    "sns.set_theme(style=\"darkgrid\")\n",
    "\n",
    "custom_palette = sns.color_palette(\"viridis\")\n",
    "\n",
    "sns.set_palette(custom_palette)\n",
    "\n",
    "plt.rcParams.update(\n",
    "    {\n",
    "        \"axes.facecolor\": \"#303845\",\n",
    "        \"axes.edgecolor\": \"#303845\",\n",
    "        \"axes.labelcolor\": \"white\",\n",
    "        \"figure.facecolor\": \"#303845\",\n",
    "        \"grid.color\": \"gray\",\n",
    "        \"text.color\": \"white\",\n",
    "        \"xtick.color\": \"white\",\n",
    "        \"ytick.color\": \"white\",\n",
    "        \"axes.titlecolor\": \"white\",\n",
    "        \"figure.titlesize\": 18,\n",
    "        \"axes.titlesize\": 16,\n",
    "    }\n",
    ")\n",
    "\n",
    "pd.set_option(\"display.max_rows\", None)\n",
    "pd.set_option(\"display.max_colwidth\", None)"
   ]
  },
  {
   "cell_type": "markdown",
   "id": "649275ab",
   "metadata": {},
   "source": [
    "# 1. Loading the data\n",
    "It's time to load and perform an initial inspection of the dataset."
   ]
  },
  {
   "cell_type": "code",
   "execution_count": 3,
   "id": "2d0a3a8d",
   "metadata": {
    "scrolled": false
   },
   "outputs": [
    {
     "data": {
      "text/plain": [
       "[('Answer',), ('Question',), ('Survey',)]"
      ]
     },
     "execution_count": 3,
     "metadata": {},
     "output_type": "execute_result"
    }
   ],
   "source": [
    "conn = sqlite3.connect(\"mental_health.sqlite\")\n",
    "\n",
    "cursor = conn.cursor()\n",
    "\n",
    "cursor.execute(\"SELECT name FROM sqlite_master WHERE type='table';\")\n",
    "tables = cursor.fetchall()\n",
    "tables"
   ]
  },
  {
   "cell_type": "markdown",
   "id": "865427d9",
   "metadata": {},
   "source": [
    "So as you can see we have three tables:\n",
    "1. Answer\n",
    "2. Question\n",
    "3. Survey\n",
    "<br>\n",
    "\n",
    "Let's look at them individually."
   ]
  },
  {
   "cell_type": "code",
   "execution_count": 4,
   "id": "038ed163",
   "metadata": {},
   "outputs": [
    {
     "data": {
      "text/html": [
       "<div>\n",
       "<style scoped>\n",
       "    .dataframe tbody tr th:only-of-type {\n",
       "        vertical-align: middle;\n",
       "    }\n",
       "\n",
       "    .dataframe tbody tr th {\n",
       "        vertical-align: top;\n",
       "    }\n",
       "\n",
       "    .dataframe thead th {\n",
       "        text-align: right;\n",
       "    }\n",
       "</style>\n",
       "<table border=\"1\" class=\"dataframe\">\n",
       "  <thead>\n",
       "    <tr style=\"text-align: right;\">\n",
       "      <th></th>\n",
       "      <th>AnswerText</th>\n",
       "      <th>SurveyID</th>\n",
       "      <th>UserID</th>\n",
       "      <th>QuestionID</th>\n",
       "    </tr>\n",
       "  </thead>\n",
       "  <tbody>\n",
       "    <tr>\n",
       "      <th>0</th>\n",
       "      <td>37</td>\n",
       "      <td>2014</td>\n",
       "      <td>1</td>\n",
       "      <td>1</td>\n",
       "    </tr>\n",
       "    <tr>\n",
       "      <th>1</th>\n",
       "      <td>44</td>\n",
       "      <td>2014</td>\n",
       "      <td>2</td>\n",
       "      <td>1</td>\n",
       "    </tr>\n",
       "    <tr>\n",
       "      <th>2</th>\n",
       "      <td>32</td>\n",
       "      <td>2014</td>\n",
       "      <td>3</td>\n",
       "      <td>1</td>\n",
       "    </tr>\n",
       "    <tr>\n",
       "      <th>3</th>\n",
       "      <td>31</td>\n",
       "      <td>2014</td>\n",
       "      <td>4</td>\n",
       "      <td>1</td>\n",
       "    </tr>\n",
       "    <tr>\n",
       "      <th>4</th>\n",
       "      <td>31</td>\n",
       "      <td>2014</td>\n",
       "      <td>5</td>\n",
       "      <td>1</td>\n",
       "    </tr>\n",
       "  </tbody>\n",
       "</table>\n",
       "</div>"
      ],
      "text/plain": [
       "  AnswerText  SurveyID  UserID  QuestionID\n",
       "0         37      2014       1           1\n",
       "1         44      2014       2           1\n",
       "2         32      2014       3           1\n",
       "3         31      2014       4           1\n",
       "4         31      2014       5           1"
      ]
     },
     "execution_count": 4,
     "metadata": {},
     "output_type": "execute_result"
    }
   ],
   "source": [
    "answer_query = \"\"\"\n",
    "                SELECT *\n",
    "                FROM Answer\n",
    "                LIMIT 5;\n",
    "               \"\"\"\n",
    "\n",
    "df = pd.read_sql_query(answer_query, conn)\n",
    "df"
   ]
  },
  {
   "cell_type": "markdown",
   "id": "bdb2c4a4",
   "metadata": {},
   "source": [
    "This is the main table with the answers to the surveys.\n",
    "<br><br>\n",
    "It contains the answer text, year of the survey and user/question ids.\n",
    "<br><br>\n",
    "The Primary Key is **UserID** while the Foreign Keys are **QuestionID** and **SurveyID** which we will be using for joining with the other two tables.\n",
    "<br><br>\n",
    "Let's also look at the number of rows."
   ]
  },
  {
   "cell_type": "code",
   "execution_count": 5,
   "id": "956b592c",
   "metadata": {
    "scrolled": true
   },
   "outputs": [
    {
     "data": {
      "text/html": [
       "<div>\n",
       "<style scoped>\n",
       "    .dataframe tbody tr th:only-of-type {\n",
       "        vertical-align: middle;\n",
       "    }\n",
       "\n",
       "    .dataframe tbody tr th {\n",
       "        vertical-align: top;\n",
       "    }\n",
       "\n",
       "    .dataframe thead th {\n",
       "        text-align: right;\n",
       "    }\n",
       "</style>\n",
       "<table border=\"1\" class=\"dataframe\">\n",
       "  <thead>\n",
       "    <tr style=\"text-align: right;\">\n",
       "      <th></th>\n",
       "      <th>COUNT(*)</th>\n",
       "    </tr>\n",
       "  </thead>\n",
       "  <tbody>\n",
       "    <tr>\n",
       "      <th>0</th>\n",
       "      <td>236898</td>\n",
       "    </tr>\n",
       "  </tbody>\n",
       "</table>\n",
       "</div>"
      ],
      "text/plain": [
       "   COUNT(*)\n",
       "0    236898"
      ]
     },
     "execution_count": 5,
     "metadata": {},
     "output_type": "execute_result"
    }
   ],
   "source": [
    "count_query = \"\"\"\n",
    "                SELECT COUNT(*)\n",
    "                FROM Answer\n",
    "               \"\"\"\n",
    "\n",
    "df = pd.read_sql_query(count_query, conn)\n",
    "df"
   ]
  },
  {
   "cell_type": "markdown",
   "id": "d3fa8a0d",
   "metadata": {},
   "source": [
    "Almost 237k rows. However we notice a strange thing that there are 105 questions and 236898 is not divisible by five, which means that the dataset does not have all the answers for every user. Therefore we should group the answers based on UserID and see what the value counts are."
   ]
  },
  {
   "cell_type": "code",
   "execution_count": 6,
   "id": "f9013f88",
   "metadata": {
    "scrolled": true
   },
   "outputs": [
    {
     "data": {
      "text/html": [
       "<div>\n",
       "<style scoped>\n",
       "    .dataframe tbody tr th:only-of-type {\n",
       "        vertical-align: middle;\n",
       "    }\n",
       "\n",
       "    .dataframe tbody tr th {\n",
       "        vertical-align: top;\n",
       "    }\n",
       "\n",
       "    .dataframe thead th {\n",
       "        text-align: right;\n",
       "    }\n",
       "</style>\n",
       "<table border=\"1\" class=\"dataframe\">\n",
       "  <thead>\n",
       "    <tr style=\"text-align: right;\">\n",
       "      <th></th>\n",
       "      <th>UserID</th>\n",
       "      <th>COUNT(*)</th>\n",
       "    </tr>\n",
       "  </thead>\n",
       "  <tbody>\n",
       "    <tr>\n",
       "      <th>0</th>\n",
       "      <td>4218</td>\n",
       "      <td>76</td>\n",
       "    </tr>\n",
       "    <tr>\n",
       "      <th>1</th>\n",
       "      <td>4217</td>\n",
       "      <td>76</td>\n",
       "    </tr>\n",
       "    <tr>\n",
       "      <th>2</th>\n",
       "      <td>4216</td>\n",
       "      <td>76</td>\n",
       "    </tr>\n",
       "    <tr>\n",
       "      <th>3</th>\n",
       "      <td>4215</td>\n",
       "      <td>76</td>\n",
       "    </tr>\n",
       "    <tr>\n",
       "      <th>4</th>\n",
       "      <td>4214</td>\n",
       "      <td>76</td>\n",
       "    </tr>\n",
       "  </tbody>\n",
       "</table>\n",
       "</div>"
      ],
      "text/plain": [
       "   UserID  COUNT(*)\n",
       "0    4218        76\n",
       "1    4217        76\n",
       "2    4216        76\n",
       "3    4215        76\n",
       "4    4214        76"
      ]
     },
     "execution_count": 6,
     "metadata": {},
     "output_type": "execute_result"
    }
   ],
   "source": [
    "value_counts_query = \"\"\"\n",
    "                SELECT UserID, COUNT(*)\n",
    "                FROM Answer\n",
    "                GROUP BY UserID\n",
    "                ORDER BY COUNT(*) DESC\n",
    "               \"\"\"\n",
    "df = pd.read_sql_query(value_counts_query, conn)\n",
    "df.head(5)"
   ]
  },
  {
   "cell_type": "code",
   "execution_count": 7,
   "id": "d8b92c46",
   "metadata": {
    "scrolled": true
   },
   "outputs": [
    {
     "data": {
      "text/html": [
       "<div>\n",
       "<style scoped>\n",
       "    .dataframe tbody tr th:only-of-type {\n",
       "        vertical-align: middle;\n",
       "    }\n",
       "\n",
       "    .dataframe tbody tr th {\n",
       "        vertical-align: top;\n",
       "    }\n",
       "\n",
       "    .dataframe thead th {\n",
       "        text-align: right;\n",
       "    }\n",
       "</style>\n",
       "<table border=\"1\" class=\"dataframe\">\n",
       "  <thead>\n",
       "    <tr style=\"text-align: right;\">\n",
       "      <th></th>\n",
       "      <th>UserID</th>\n",
       "      <th>COUNT(*)</th>\n",
       "    </tr>\n",
       "  </thead>\n",
       "  <tbody>\n",
       "    <tr>\n",
       "      <th>4213</th>\n",
       "      <td>5</td>\n",
       "      <td>26</td>\n",
       "    </tr>\n",
       "    <tr>\n",
       "      <th>4214</th>\n",
       "      <td>4</td>\n",
       "      <td>26</td>\n",
       "    </tr>\n",
       "    <tr>\n",
       "      <th>4215</th>\n",
       "      <td>3</td>\n",
       "      <td>26</td>\n",
       "    </tr>\n",
       "    <tr>\n",
       "      <th>4216</th>\n",
       "      <td>2</td>\n",
       "      <td>26</td>\n",
       "    </tr>\n",
       "    <tr>\n",
       "      <th>4217</th>\n",
       "      <td>1</td>\n",
       "      <td>26</td>\n",
       "    </tr>\n",
       "  </tbody>\n",
       "</table>\n",
       "</div>"
      ],
      "text/plain": [
       "      UserID  COUNT(*)\n",
       "4213       5        26\n",
       "4214       4        26\n",
       "4215       3        26\n",
       "4216       2        26\n",
       "4217       1        26"
      ]
     },
     "execution_count": 7,
     "metadata": {},
     "output_type": "execute_result"
    }
   ],
   "source": [
    "df.tail(5)"
   ]
  },
  {
   "cell_type": "markdown",
   "id": "16c5242c",
   "metadata": {},
   "source": [
    "The number of answers per UserID seems to range from 26 to 76"
   ]
  },
  {
   "cell_type": "code",
   "execution_count": 8,
   "id": "8ebd6843",
   "metadata": {
    "scrolled": true
   },
   "outputs": [
    {
     "data": {
      "text/html": [
       "<div>\n",
       "<style scoped>\n",
       "    .dataframe tbody tr th:only-of-type {\n",
       "        vertical-align: middle;\n",
       "    }\n",
       "\n",
       "    .dataframe tbody tr th {\n",
       "        vertical-align: top;\n",
       "    }\n",
       "\n",
       "    .dataframe thead th {\n",
       "        text-align: right;\n",
       "    }\n",
       "</style>\n",
       "<table border=\"1\" class=\"dataframe\">\n",
       "  <thead>\n",
       "    <tr style=\"text-align: right;\">\n",
       "      <th></th>\n",
       "      <th>questiontext</th>\n",
       "      <th>questionid</th>\n",
       "    </tr>\n",
       "  </thead>\n",
       "  <tbody>\n",
       "    <tr>\n",
       "      <th>0</th>\n",
       "      <td>What is your age?</td>\n",
       "      <td>1</td>\n",
       "    </tr>\n",
       "    <tr>\n",
       "      <th>1</th>\n",
       "      <td>What is your gender?</td>\n",
       "      <td>2</td>\n",
       "    </tr>\n",
       "    <tr>\n",
       "      <th>2</th>\n",
       "      <td>What country do you live in?</td>\n",
       "      <td>3</td>\n",
       "    </tr>\n",
       "    <tr>\n",
       "      <th>3</th>\n",
       "      <td>If you live in the United States, which state or territory do you live in?</td>\n",
       "      <td>4</td>\n",
       "    </tr>\n",
       "    <tr>\n",
       "      <th>4</th>\n",
       "      <td>Are you self-employed?</td>\n",
       "      <td>5</td>\n",
       "    </tr>\n",
       "  </tbody>\n",
       "</table>\n",
       "</div>"
      ],
      "text/plain": [
       "                                                                 questiontext  \\\n",
       "0                                                           What is your age?   \n",
       "1                                                        What is your gender?   \n",
       "2                                                What country do you live in?   \n",
       "3  If you live in the United States, which state or territory do you live in?   \n",
       "4                                                      Are you self-employed?   \n",
       "\n",
       "   questionid  \n",
       "0           1  \n",
       "1           2  \n",
       "2           3  \n",
       "3           4  \n",
       "4           5  "
      ]
     },
     "execution_count": 8,
     "metadata": {},
     "output_type": "execute_result"
    }
   ],
   "source": [
    "question_query = \"\"\"\n",
    "                SELECT *\n",
    "                FROM Question\n",
    "                LIMIT 5;\n",
    "               \"\"\"\n",
    "\n",
    "df = pd.read_sql_query(question_query, conn)\n",
    "df"
   ]
  },
  {
   "cell_type": "markdown",
   "id": "fbe6c1fc",
   "metadata": {},
   "source": [
    "Here we have all the questions used in the survey. \n",
    "<br>\n",
    "Let's look how many we have."
   ]
  },
  {
   "cell_type": "code",
   "execution_count": 9,
   "id": "1d0a481e",
   "metadata": {
    "scrolled": true
   },
   "outputs": [
    {
     "data": {
      "text/html": [
       "<div>\n",
       "<style scoped>\n",
       "    .dataframe tbody tr th:only-of-type {\n",
       "        vertical-align: middle;\n",
       "    }\n",
       "\n",
       "    .dataframe tbody tr th {\n",
       "        vertical-align: top;\n",
       "    }\n",
       "\n",
       "    .dataframe thead th {\n",
       "        text-align: right;\n",
       "    }\n",
       "</style>\n",
       "<table border=\"1\" class=\"dataframe\">\n",
       "  <thead>\n",
       "    <tr style=\"text-align: right;\">\n",
       "      <th></th>\n",
       "      <th>COUNT(*)</th>\n",
       "    </tr>\n",
       "  </thead>\n",
       "  <tbody>\n",
       "    <tr>\n",
       "      <th>0</th>\n",
       "      <td>105</td>\n",
       "    </tr>\n",
       "  </tbody>\n",
       "</table>\n",
       "</div>"
      ],
      "text/plain": [
       "   COUNT(*)\n",
       "0       105"
      ]
     },
     "execution_count": 9,
     "metadata": {},
     "output_type": "execute_result"
    }
   ],
   "source": [
    "count_query = \"\"\"\n",
    "                SELECT COUNT(*)\n",
    "                FROM Question\n",
    "                LIMIT 5;\n",
    "               \"\"\"\n",
    "\n",
    "df = pd.read_sql_query(count_query, conn)\n",
    "df"
   ]
  },
  {
   "cell_type": "markdown",
   "id": "42b2d532",
   "metadata": {},
   "source": [
    "The dataset contains answers to 105 questions."
   ]
  },
  {
   "cell_type": "code",
   "execution_count": 10,
   "id": "e9989b8f",
   "metadata": {},
   "outputs": [
    {
     "data": {
      "text/html": [
       "<div>\n",
       "<style scoped>\n",
       "    .dataframe tbody tr th:only-of-type {\n",
       "        vertical-align: middle;\n",
       "    }\n",
       "\n",
       "    .dataframe tbody tr th {\n",
       "        vertical-align: top;\n",
       "    }\n",
       "\n",
       "    .dataframe thead th {\n",
       "        text-align: right;\n",
       "    }\n",
       "</style>\n",
       "<table border=\"1\" class=\"dataframe\">\n",
       "  <thead>\n",
       "    <tr style=\"text-align: right;\">\n",
       "      <th></th>\n",
       "      <th>SurveyID</th>\n",
       "      <th>Description</th>\n",
       "    </tr>\n",
       "  </thead>\n",
       "  <tbody>\n",
       "    <tr>\n",
       "      <th>0</th>\n",
       "      <td>2014</td>\n",
       "      <td>mental health survey for 2014</td>\n",
       "    </tr>\n",
       "    <tr>\n",
       "      <th>1</th>\n",
       "      <td>2016</td>\n",
       "      <td>mental health survey for 2016</td>\n",
       "    </tr>\n",
       "    <tr>\n",
       "      <th>2</th>\n",
       "      <td>2017</td>\n",
       "      <td>mental health survey for 2017</td>\n",
       "    </tr>\n",
       "    <tr>\n",
       "      <th>3</th>\n",
       "      <td>2018</td>\n",
       "      <td>mental health survey for 2018</td>\n",
       "    </tr>\n",
       "    <tr>\n",
       "      <th>4</th>\n",
       "      <td>2019</td>\n",
       "      <td>mental health survey for 2019</td>\n",
       "    </tr>\n",
       "  </tbody>\n",
       "</table>\n",
       "</div>"
      ],
      "text/plain": [
       "   SurveyID                    Description\n",
       "0      2014  mental health survey for 2014\n",
       "1      2016  mental health survey for 2016\n",
       "2      2017  mental health survey for 2017\n",
       "3      2018  mental health survey for 2018\n",
       "4      2019  mental health survey for 2019"
      ]
     },
     "execution_count": 10,
     "metadata": {},
     "output_type": "execute_result"
    }
   ],
   "source": [
    "survey_query = \"\"\"\n",
    "                SELECT *\n",
    "                FROM Survey\n",
    "                LIMIT 5;\n",
    "               \"\"\"\n",
    "\n",
    "df = pd.read_sql_query(survey_query, conn)\n",
    "df"
   ]
  },
  {
   "cell_type": "markdown",
   "id": "28379fb4",
   "metadata": {},
   "source": [
    "The ID itself already contains the year so this data is redundant.<br>"
   ]
  },
  {
   "cell_type": "markdown",
   "id": "37205202",
   "metadata": {},
   "source": [
    "# 2. Data cleaning\n",
    "Let's look at the data types and also null values and duplicates if they exist."
   ]
  },
  {
   "cell_type": "code",
   "execution_count": 11,
   "id": "623d7b09",
   "metadata": {},
   "outputs": [
    {
     "data": {
      "text/html": [
       "<div>\n",
       "<style scoped>\n",
       "    .dataframe tbody tr th:only-of-type {\n",
       "        vertical-align: middle;\n",
       "    }\n",
       "\n",
       "    .dataframe tbody tr th {\n",
       "        vertical-align: top;\n",
       "    }\n",
       "\n",
       "    .dataframe thead th {\n",
       "        text-align: right;\n",
       "    }\n",
       "</style>\n",
       "<table border=\"1\" class=\"dataframe\">\n",
       "  <thead>\n",
       "    <tr style=\"text-align: right;\">\n",
       "      <th></th>\n",
       "      <th>cid</th>\n",
       "      <th>name</th>\n",
       "      <th>type</th>\n",
       "      <th>notnull</th>\n",
       "      <th>dflt_value</th>\n",
       "      <th>pk</th>\n",
       "    </tr>\n",
       "  </thead>\n",
       "  <tbody>\n",
       "    <tr>\n",
       "      <th>0</th>\n",
       "      <td>0</td>\n",
       "      <td>AnswerText</td>\n",
       "      <td>VARCHAR(10000)</td>\n",
       "      <td>0</td>\n",
       "      <td>None</td>\n",
       "      <td>0</td>\n",
       "    </tr>\n",
       "    <tr>\n",
       "      <th>1</th>\n",
       "      <td>1</td>\n",
       "      <td>SurveyID</td>\n",
       "      <td>INTEGER</td>\n",
       "      <td>0</td>\n",
       "      <td>None</td>\n",
       "      <td>0</td>\n",
       "    </tr>\n",
       "    <tr>\n",
       "      <th>2</th>\n",
       "      <td>2</td>\n",
       "      <td>UserID</td>\n",
       "      <td>INTEGER</td>\n",
       "      <td>0</td>\n",
       "      <td>None</td>\n",
       "      <td>0</td>\n",
       "    </tr>\n",
       "    <tr>\n",
       "      <th>3</th>\n",
       "      <td>3</td>\n",
       "      <td>QuestionID</td>\n",
       "      <td>INTEGER</td>\n",
       "      <td>0</td>\n",
       "      <td>None</td>\n",
       "      <td>0</td>\n",
       "    </tr>\n",
       "  </tbody>\n",
       "</table>\n",
       "</div>"
      ],
      "text/plain": [
       "   cid        name            type  notnull dflt_value  pk\n",
       "0    0  AnswerText  VARCHAR(10000)        0       None   0\n",
       "1    1    SurveyID         INTEGER        0       None   0\n",
       "2    2      UserID         INTEGER        0       None   0\n",
       "3    3  QuestionID         INTEGER        0       None   0"
      ]
     },
     "execution_count": 11,
     "metadata": {},
     "output_type": "execute_result"
    }
   ],
   "source": [
    "query = \"\"\"\n",
    "PRAGMA table_info(Answer);\n",
    "\"\"\"\n",
    "\n",
    "schema_df = pd.read_sql_query(query, conn)\n",
    "schema_df"
   ]
  },
  {
   "cell_type": "markdown",
   "id": "4e2c98af",
   "metadata": {},
   "source": [
    "The data types are appropriate.<br>\n",
    "No nulls in the **Answer** table."
   ]
  },
  {
   "cell_type": "code",
   "execution_count": 12,
   "id": "2e22b269",
   "metadata": {},
   "outputs": [
    {
     "data": {
      "text/html": [
       "<div>\n",
       "<style scoped>\n",
       "    .dataframe tbody tr th:only-of-type {\n",
       "        vertical-align: middle;\n",
       "    }\n",
       "\n",
       "    .dataframe tbody tr th {\n",
       "        vertical-align: top;\n",
       "    }\n",
       "\n",
       "    .dataframe thead th {\n",
       "        text-align: right;\n",
       "    }\n",
       "</style>\n",
       "<table border=\"1\" class=\"dataframe\">\n",
       "  <thead>\n",
       "    <tr style=\"text-align: right;\">\n",
       "      <th></th>\n",
       "      <th>cid</th>\n",
       "      <th>name</th>\n",
       "      <th>type</th>\n",
       "      <th>notnull</th>\n",
       "      <th>dflt_value</th>\n",
       "      <th>pk</th>\n",
       "    </tr>\n",
       "  </thead>\n",
       "  <tbody>\n",
       "    <tr>\n",
       "      <th>0</th>\n",
       "      <td>0</td>\n",
       "      <td>questiontext</td>\n",
       "      <td>VARCHAR(1000)</td>\n",
       "      <td>0</td>\n",
       "      <td>None</td>\n",
       "      <td>0</td>\n",
       "    </tr>\n",
       "    <tr>\n",
       "      <th>1</th>\n",
       "      <td>1</td>\n",
       "      <td>questionid</td>\n",
       "      <td>INTEGER</td>\n",
       "      <td>0</td>\n",
       "      <td>None</td>\n",
       "      <td>0</td>\n",
       "    </tr>\n",
       "  </tbody>\n",
       "</table>\n",
       "</div>"
      ],
      "text/plain": [
       "   cid          name           type  notnull dflt_value  pk\n",
       "0    0  questiontext  VARCHAR(1000)        0       None   0\n",
       "1    1    questionid        INTEGER        0       None   0"
      ]
     },
     "execution_count": 12,
     "metadata": {},
     "output_type": "execute_result"
    }
   ],
   "source": [
    "query = \"\"\"\n",
    "PRAGMA table_info(Question);\n",
    "\"\"\"\n",
    "\n",
    "schema_df = pd.read_sql_query(query, conn)\n",
    "schema_df"
   ]
  },
  {
   "cell_type": "markdown",
   "id": "25399197",
   "metadata": {},
   "source": [
    "Same with the **Question** table."
   ]
  },
  {
   "cell_type": "code",
   "execution_count": 13,
   "id": "34432aeb",
   "metadata": {
    "scrolled": false
   },
   "outputs": [
    {
     "data": {
      "text/html": [
       "<div>\n",
       "<style scoped>\n",
       "    .dataframe tbody tr th:only-of-type {\n",
       "        vertical-align: middle;\n",
       "    }\n",
       "\n",
       "    .dataframe tbody tr th {\n",
       "        vertical-align: top;\n",
       "    }\n",
       "\n",
       "    .dataframe thead th {\n",
       "        text-align: right;\n",
       "    }\n",
       "</style>\n",
       "<table border=\"1\" class=\"dataframe\">\n",
       "  <thead>\n",
       "    <tr style=\"text-align: right;\">\n",
       "      <th></th>\n",
       "      <th>AnswerText</th>\n",
       "      <th>SurveyID</th>\n",
       "      <th>UserID</th>\n",
       "      <th>QuestionID</th>\n",
       "      <th>count</th>\n",
       "    </tr>\n",
       "  </thead>\n",
       "  <tbody>\n",
       "  </tbody>\n",
       "</table>\n",
       "</div>"
      ],
      "text/plain": [
       "Empty DataFrame\n",
       "Columns: [AnswerText, SurveyID, UserID, QuestionID, count]\n",
       "Index: []"
      ]
     },
     "execution_count": 13,
     "metadata": {},
     "output_type": "execute_result"
    }
   ],
   "source": [
    "duplicates_query = \"\"\"\n",
    "                    SELECT AnswerText, \n",
    "                           SurveyID, \n",
    "                           UserID, \n",
    "                           QuestionID, \n",
    "                           COUNT(*) as count\n",
    "                    FROM Answer\n",
    "                    GROUP BY AnswerText, SurveyID, UserID, QuestionID\n",
    "                    HAVING COUNT(*) > 1;\n",
    "                    \"\"\"\n",
    "\n",
    "duplicates_df = pd.read_sql_query(duplicates_query, conn)\n",
    "duplicates_df"
   ]
  },
  {
   "cell_type": "markdown",
   "id": "749138fa",
   "metadata": {},
   "source": [
    "No duplicate rows in the **Answer** table."
   ]
  },
  {
   "cell_type": "code",
   "execution_count": 14,
   "id": "3b00de1f",
   "metadata": {},
   "outputs": [
    {
     "data": {
      "text/html": [
       "<div>\n",
       "<style scoped>\n",
       "    .dataframe tbody tr th:only-of-type {\n",
       "        vertical-align: middle;\n",
       "    }\n",
       "\n",
       "    .dataframe tbody tr th {\n",
       "        vertical-align: top;\n",
       "    }\n",
       "\n",
       "    .dataframe thead th {\n",
       "        text-align: right;\n",
       "    }\n",
       "</style>\n",
       "<table border=\"1\" class=\"dataframe\">\n",
       "  <thead>\n",
       "    <tr style=\"text-align: right;\">\n",
       "      <th></th>\n",
       "      <th>questiontext</th>\n",
       "      <th>questionid</th>\n",
       "      <th>count</th>\n",
       "    </tr>\n",
       "  </thead>\n",
       "  <tbody>\n",
       "  </tbody>\n",
       "</table>\n",
       "</div>"
      ],
      "text/plain": [
       "Empty DataFrame\n",
       "Columns: [questiontext, questionid, count]\n",
       "Index: []"
      ]
     },
     "execution_count": 14,
     "metadata": {},
     "output_type": "execute_result"
    }
   ],
   "source": [
    "duplicates_query = \"\"\"\n",
    "                    SELECT questiontext, \n",
    "                           questionid,\n",
    "                           COUNT(*) as count\n",
    "                    FROM Question\n",
    "                    GROUP BY questiontext, questionid\n",
    "                    HAVING COUNT(*) > 1;\n",
    "                    \"\"\"\n",
    "\n",
    "duplicates_df = pd.read_sql_query(duplicates_query, conn)\n",
    "duplicates_df"
   ]
  },
  {
   "cell_type": "markdown",
   "id": "bfc496df",
   "metadata": {},
   "source": [
    "No duplicates for the **Question** table."
   ]
  },
  {
   "cell_type": "markdown",
   "id": "98f2718c",
   "metadata": {},
   "source": [
    "# 3. Basic metrics.\n",
    "\n",
    "It's time to get an initial understanding of the dataset.<br><br>\n",
    "We will achieve this using summary statistics.<br><br>\n",
    "Then we will look at the distributions, counts and frequencies.<br><br>\n",
    "First let's look at the number of users and answers collected for each year the survey was done."
   ]
  },
  {
   "cell_type": "code",
   "execution_count": 15,
   "id": "659a4025",
   "metadata": {},
   "outputs": [
    {
     "data": {
      "text/html": [
       "<div>\n",
       "<style scoped>\n",
       "    .dataframe tbody tr th:only-of-type {\n",
       "        vertical-align: middle;\n",
       "    }\n",
       "\n",
       "    .dataframe tbody tr th {\n",
       "        vertical-align: top;\n",
       "    }\n",
       "\n",
       "    .dataframe thead th {\n",
       "        text-align: right;\n",
       "    }\n",
       "</style>\n",
       "<table border=\"1\" class=\"dataframe\">\n",
       "  <thead>\n",
       "    <tr style=\"text-align: right;\">\n",
       "      <th></th>\n",
       "      <th>Year</th>\n",
       "      <th>Survey_Users</th>\n",
       "    </tr>\n",
       "  </thead>\n",
       "  <tbody>\n",
       "    <tr>\n",
       "      <th>0</th>\n",
       "      <td>2014</td>\n",
       "      <td>1260</td>\n",
       "    </tr>\n",
       "    <tr>\n",
       "      <th>1</th>\n",
       "      <td>2016</td>\n",
       "      <td>1433</td>\n",
       "    </tr>\n",
       "    <tr>\n",
       "      <th>2</th>\n",
       "      <td>2017</td>\n",
       "      <td>756</td>\n",
       "    </tr>\n",
       "    <tr>\n",
       "      <th>3</th>\n",
       "      <td>2018</td>\n",
       "      <td>417</td>\n",
       "    </tr>\n",
       "    <tr>\n",
       "      <th>4</th>\n",
       "      <td>2019</td>\n",
       "      <td>352</td>\n",
       "    </tr>\n",
       "  </tbody>\n",
       "</table>\n",
       "</div>"
      ],
      "text/plain": [
       "   Year  Survey_Users\n",
       "0  2014          1260\n",
       "1  2016          1433\n",
       "2  2017           756\n",
       "3  2018           417\n",
       "4  2019           352"
      ]
     },
     "execution_count": 15,
     "metadata": {},
     "output_type": "execute_result"
    }
   ],
   "source": [
    "yearly_users_query = \"\"\"\n",
    "                      SELECT SurveyID AS Year, COUNT(DISTINCT UserID) AS Survey_Users\n",
    "                      FROM Answer\n",
    "                      GROUP BY Year\n",
    "                      ORDER BY Year\n",
    "                     \"\"\"\n",
    "yearly_users_df = pd.read_sql_query(yearly_users_query, conn)\n",
    "yearly_users_df"
   ]
  },
  {
   "cell_type": "code",
   "execution_count": 16,
   "id": "51bcaa55",
   "metadata": {
    "scrolled": false
   },
   "outputs": [
    {
     "data": {
      "image/png": "[encoded data removed]",
      "text/plain": [
       "<Figure size 640x480 with 1 Axes>"
      ]
     },
     "metadata": {},
     "output_type": "display_data"
    }
   ],
   "source": [
    "sns.barplot(data=yearly_users_df, x=\"Year\", y=\"Survey_Users\", edgecolor=\"#303845\")\n",
    "plt.title(\"Survey Users by Year\")\n",
    "plt.show()"
   ]
  },
  {
   "cell_type": "markdown",
   "id": "9aa55312",
   "metadata": {},
   "source": [
    "As you can see the year with most users was 2016. <br>\n",
    "2019 has the least amount of users who participated in the survey.<br><br>\n",
    "Now let's check the number of answers for each year."
   ]
  },
  {
   "cell_type": "code",
   "execution_count": 17,
   "id": "add7c340",
   "metadata": {},
   "outputs": [
    {
     "data": {
      "text/html": [
       "<div>\n",
       "<style scoped>\n",
       "    .dataframe tbody tr th:only-of-type {\n",
       "        vertical-align: middle;\n",
       "    }\n",
       "\n",
       "    .dataframe tbody tr th {\n",
       "        vertical-align: top;\n",
       "    }\n",
       "\n",
       "    .dataframe thead th {\n",
       "        text-align: right;\n",
       "    }\n",
       "</style>\n",
       "<table border=\"1\" class=\"dataframe\">\n",
       "  <thead>\n",
       "    <tr style=\"text-align: right;\">\n",
       "      <th></th>\n",
       "      <th>Year</th>\n",
       "      <th>Number_of_answers</th>\n",
       "    </tr>\n",
       "  </thead>\n",
       "  <tbody>\n",
       "    <tr>\n",
       "      <th>0</th>\n",
       "      <td>2014</td>\n",
       "      <td>32760</td>\n",
       "    </tr>\n",
       "    <tr>\n",
       "      <th>1</th>\n",
       "      <td>2016</td>\n",
       "      <td>88238</td>\n",
       "    </tr>\n",
       "    <tr>\n",
       "      <th>2</th>\n",
       "      <td>2017</td>\n",
       "      <td>57456</td>\n",
       "    </tr>\n",
       "    <tr>\n",
       "      <th>3</th>\n",
       "      <td>2018</td>\n",
       "      <td>31692</td>\n",
       "    </tr>\n",
       "    <tr>\n",
       "      <th>4</th>\n",
       "      <td>2019</td>\n",
       "      <td>26752</td>\n",
       "    </tr>\n",
       "  </tbody>\n",
       "</table>\n",
       "</div>"
      ],
      "text/plain": [
       "   Year  Number_of_answers\n",
       "0  2014              32760\n",
       "1  2016              88238\n",
       "2  2017              57456\n",
       "3  2018              31692\n",
       "4  2019              26752"
      ]
     },
     "execution_count": 17,
     "metadata": {},
     "output_type": "execute_result"
    }
   ],
   "source": [
    "yearly_answers_query = \"\"\"\n",
    "                      SELECT SurveyID AS Year, COUNT(AnswerText) AS Number_of_answers\n",
    "                      FROM Answer\n",
    "                      GROUP BY Year\n",
    "                      ORDER BY Year\n",
    "                     \"\"\"\n",
    "yearly_answers_df = pd.read_sql_query(yearly_answers_query, conn)\n",
    "yearly_answers_df"
   ]
  },
  {
   "cell_type": "code",
   "execution_count": 18,
   "id": "9f6678c0",
   "metadata": {
    "scrolled": false
   },
   "outputs": [
    {
     "data": {
      "image/png": "[encoded data removed]",
      "text/plain": [
       "<Figure size 640x480 with 1 Axes>"
      ]
     },
     "metadata": {},
     "output_type": "display_data"
    }
   ],
   "source": [
    "sns.barplot(\n",
    "    data=yearly_answers_df, x=\"Year\", y=\"Number_of_answers\", edgecolor=\"#303845\"\n",
    ")\n",
    "plt.title(\"Survey Answers by Year\")\n",
    "\n",
    "plt.show()"
   ]
  },
  {
   "cell_type": "markdown",
   "id": "7850f0ab",
   "metadata": {},
   "source": [
    "The barplots are similar by proportion except for the year 2014 where we have a big number of participants and yet a small number of answers in comparison.<br><br>\n",
    "We saw earlier how the number of answers ranges from 26 to 76 for users. Let's take a look at the most and least frequently answered questions."
   ]
  },
  {
   "cell_type": "code",
   "execution_count": 19,
   "id": "92c7002d",
   "metadata": {
    "scrolled": true
   },
   "outputs": [
    {
     "data": {
      "text/html": [
       "<div>\n",
       "<style scoped>\n",
       "    .dataframe tbody tr th:only-of-type {\n",
       "        vertical-align: middle;\n",
       "    }\n",
       "\n",
       "    .dataframe tbody tr th {\n",
       "        vertical-align: top;\n",
       "    }\n",
       "\n",
       "    .dataframe thead th {\n",
       "        text-align: right;\n",
       "    }\n",
       "</style>\n",
       "<table border=\"1\" class=\"dataframe\">\n",
       "  <thead>\n",
       "    <tr style=\"text-align: right;\">\n",
       "      <th></th>\n",
       "      <th>questiontext</th>\n",
       "      <th>count</th>\n",
       "    </tr>\n",
       "  </thead>\n",
       "  <tbody>\n",
       "    <tr>\n",
       "      <th>0</th>\n",
       "      <td>Any additional notes or comments</td>\n",
       "      <td>1260</td>\n",
       "    </tr>\n",
       "    <tr>\n",
       "      <th>1</th>\n",
       "      <td>Do you know the options for mental health care your employer provides?</td>\n",
       "      <td>1260</td>\n",
       "    </tr>\n",
       "    <tr>\n",
       "      <th>2</th>\n",
       "      <td>Do you think that discussing a mental health issue with your employer would have negative consequences?</td>\n",
       "      <td>1260</td>\n",
       "    </tr>\n",
       "    <tr>\n",
       "      <th>3</th>\n",
       "      <td>Do you work remotely (outside of an office) at least 50% of the time?</td>\n",
       "      <td>1260</td>\n",
       "    </tr>\n",
       "    <tr>\n",
       "      <th>4</th>\n",
       "      <td>Does your employer provide resources to learn more about mental health issues and how to seek help?</td>\n",
       "      <td>1260</td>\n",
       "    </tr>\n",
       "  </tbody>\n",
       "</table>\n",
       "</div>"
      ],
      "text/plain": [
       "                                                                                              questiontext  \\\n",
       "0                                                                         Any additional notes or comments   \n",
       "1                                   Do you know the options for mental health care your employer provides?   \n",
       "2  Do you think that discussing a mental health issue with your employer would have negative consequences?   \n",
       "3                                    Do you work remotely (outside of an office) at least 50% of the time?   \n",
       "4      Does your employer provide resources to learn more about mental health issues and how to seek help?   \n",
       "\n",
       "   count  \n",
       "0   1260  \n",
       "1   1260  \n",
       "2   1260  \n",
       "3   1260  \n",
       "4   1260  "
      ]
     },
     "execution_count": 19,
     "metadata": {},
     "output_type": "execute_result"
    }
   ],
   "source": [
    "low_answers_query = \"\"\"\n",
    "                     SELECT o.questiontext,\n",
    "                            COUNT(a.questionid) AS count\n",
    "                     FROM Answer AS a\n",
    "                     JOIN Question AS o\n",
    "                     ON a.QuestionID = o.QuestionID\n",
    "                     GROUP BY o.questiontext\n",
    "                     ORDER BY COUNT(a.questionid)\n",
    "                     LIMIT 5;\n",
    "                    \"\"\"\n",
    "low_answers_query = pd.read_sql_query(low_answers_query, conn)\n",
    "low_answers_query"
   ]
  },
  {
   "cell_type": "markdown",
   "id": "7b5fd153",
   "metadata": {},
   "source": [
    "These are some of the answers that have the least amount of entries.<br>"
   ]
  },
  {
   "cell_type": "code",
   "execution_count": 20,
   "id": "d21e6db8",
   "metadata": {
    "scrolled": false
   },
   "outputs": [
    {
     "data": {
      "text/html": [
       "<div>\n",
       "<style scoped>\n",
       "    .dataframe tbody tr th:only-of-type {\n",
       "        vertical-align: middle;\n",
       "    }\n",
       "\n",
       "    .dataframe tbody tr th {\n",
       "        vertical-align: top;\n",
       "    }\n",
       "\n",
       "    .dataframe thead th {\n",
       "        text-align: right;\n",
       "    }\n",
       "</style>\n",
       "<table border=\"1\" class=\"dataframe\">\n",
       "  <thead>\n",
       "    <tr style=\"text-align: right;\">\n",
       "      <th></th>\n",
       "      <th>questiontext</th>\n",
       "      <th>count</th>\n",
       "    </tr>\n",
       "  </thead>\n",
       "  <tbody>\n",
       "    <tr>\n",
       "      <th>0</th>\n",
       "      <td>Would you bring up a mental health issue with a potential employer in an interview?</td>\n",
       "      <td>4218</td>\n",
       "    </tr>\n",
       "    <tr>\n",
       "      <th>1</th>\n",
       "      <td>What is your gender?</td>\n",
       "      <td>4218</td>\n",
       "    </tr>\n",
       "    <tr>\n",
       "      <th>2</th>\n",
       "      <td>What is your age?</td>\n",
       "      <td>4218</td>\n",
       "    </tr>\n",
       "    <tr>\n",
       "      <th>3</th>\n",
       "      <td>What country do you live in?</td>\n",
       "      <td>4218</td>\n",
       "    </tr>\n",
       "    <tr>\n",
       "      <th>4</th>\n",
       "      <td>Is your employer primarily a tech company/organization?</td>\n",
       "      <td>4218</td>\n",
       "    </tr>\n",
       "  </tbody>\n",
       "</table>\n",
       "</div>"
      ],
      "text/plain": [
       "                                                                          questiontext  \\\n",
       "0  Would you bring up a mental health issue with a potential employer in an interview?   \n",
       "1                                                                 What is your gender?   \n",
       "2                                                                    What is your age?   \n",
       "3                                                         What country do you live in?   \n",
       "4                              Is your employer primarily a tech company/organization?   \n",
       "\n",
       "   count  \n",
       "0   4218  \n",
       "1   4218  \n",
       "2   4218  \n",
       "3   4218  \n",
       "4   4218  "
      ]
     },
     "execution_count": 20,
     "metadata": {},
     "output_type": "execute_result"
    }
   ],
   "source": [
    "top_answers_query = \"\"\"\n",
    "                      SELECT o.questiontext,\n",
    "                             COUNT(a.questionid) AS count\n",
    "                      FROM Answer AS a\n",
    "                      JOIN Question AS o\n",
    "                      ON a.QuestionID = o.QuestionID\n",
    "                      GROUP BY o.questiontext\n",
    "                      ORDER BY COUNT(a.questionid) DESC\n",
    "                      LIMIT 5;\n",
    "                     \"\"\"\n",
    "top_answers_query = pd.read_sql_query(top_answers_query, conn)\n",
    "top_answers_query"
   ]
  },
  {
   "cell_type": "markdown",
   "id": "ecca3d3d",
   "metadata": {},
   "source": [
    "It could be that there is a different number of questions for each year as perhaps the survey changed over time, that's what it seems like based on the high number of duplicate counts.\n",
    "<br><br>\n",
    "Let's check the value counts for each year to make sure."
   ]
  },
  {
   "cell_type": "code",
   "execution_count": 21,
   "id": "c97ab4bb",
   "metadata": {},
   "outputs": [
    {
     "data": {
      "text/html": [
       "<div>\n",
       "<style scoped>\n",
       "    .dataframe tbody tr th:only-of-type {\n",
       "        vertical-align: middle;\n",
       "    }\n",
       "\n",
       "    .dataframe tbody tr th {\n",
       "        vertical-align: top;\n",
       "    }\n",
       "\n",
       "    .dataframe thead th {\n",
       "        text-align: right;\n",
       "    }\n",
       "</style>\n",
       "<table border=\"1\" class=\"dataframe\">\n",
       "  <thead>\n",
       "    <tr style=\"text-align: right;\">\n",
       "      <th></th>\n",
       "      <th>SurveyID</th>\n",
       "      <th>COUNT(DISTINCT o.questionid)</th>\n",
       "    </tr>\n",
       "  </thead>\n",
       "  <tbody>\n",
       "    <tr>\n",
       "      <th>0</th>\n",
       "      <td>2019</td>\n",
       "      <td>76</td>\n",
       "    </tr>\n",
       "    <tr>\n",
       "      <th>1</th>\n",
       "      <td>2018</td>\n",
       "      <td>76</td>\n",
       "    </tr>\n",
       "    <tr>\n",
       "      <th>2</th>\n",
       "      <td>2017</td>\n",
       "      <td>76</td>\n",
       "    </tr>\n",
       "    <tr>\n",
       "      <th>3</th>\n",
       "      <td>2016</td>\n",
       "      <td>60</td>\n",
       "    </tr>\n",
       "    <tr>\n",
       "      <th>4</th>\n",
       "      <td>2014</td>\n",
       "      <td>26</td>\n",
       "    </tr>\n",
       "  </tbody>\n",
       "</table>\n",
       "</div>"
      ],
      "text/plain": [
       "   SurveyID  COUNT(DISTINCT o.questionid)\n",
       "0      2019                            76\n",
       "1      2018                            76\n",
       "2      2017                            76\n",
       "3      2016                            60\n",
       "4      2014                            26"
      ]
     },
     "execution_count": 21,
     "metadata": {},
     "output_type": "execute_result"
    }
   ],
   "source": [
    "query_2014 = \"\"\"\n",
    "                      SELECT a.surveyid,\n",
    "                             COUNT(DISTINCT o.questionid)\n",
    "                      FROM Answer AS a\n",
    "                      JOIN Question AS o\n",
    "                      ON a.QuestionID = o.QuestionID\n",
    "                      GROUP BY a.surveyid\n",
    "                      ORDER BY o.questionid DESC\n",
    "                     \"\"\"\n",
    "query_2014 = pd.read_sql_query(query_2014, conn)\n",
    "query_2014"
   ]
  },
  {
   "cell_type": "markdown",
   "id": "6d21c3ea",
   "metadata": {},
   "source": [
    "Aha! So even though there's 105 different questions in total, there's only 26 questions in the survey data from 2014 and 76 questions for the years 2017-2019, that explains a lot. We will have to keep in mind that some questions might only exist in certain years.\n",
    "<br><br>\n",
    "It also explains why there's so little answers compared to the number of users who have taken the survey in 2014 - there were only 26 questions at the time.\n",
    "<br><br>\n",
    "### Age groups.\n",
    "Analyzing further we would like to check the age distributions for each year."
   ]
  },
  {
   "cell_type": "code",
   "execution_count": 22,
   "id": "4fad3a21",
   "metadata": {
    "scrolled": false
   },
   "outputs": [
    {
     "data": {
      "image/png": "[encoded data removed]",
      "text/plain": [
       "<Figure size 1200x800 with 1 Axes>"
      ]
     },
     "metadata": {},
     "output_type": "display_data"
    }
   ],
   "source": [
    "age_query = \"\"\"\n",
    "            SELECT \n",
    "                SurveyID AS Year, \n",
    "                CASE \n",
    "                    WHEN CAST(answertext AS INTEGER) BETWEEN 18 AND 25 THEN '18-25'\n",
    "                    WHEN CAST(answertext AS INTEGER) BETWEEN 26 AND 35 THEN '26-35'\n",
    "                    WHEN CAST(answertext AS INTEGER) BETWEEN 36 AND 44 THEN '36-45'\n",
    "                    WHEN CAST(answertext AS INTEGER) BETWEEN 46 AND 55 THEN '46-55'\n",
    "                    WHEN CAST(answertext AS INTEGER) BETWEEN 56 AND 65 THEN '56-65'\n",
    "                    WHEN CAST(answertext AS INTEGER) >= 66 THEN '66 and above'\n",
    "                    ELSE 'Unknown'\n",
    "                END AS AgeGroup,\n",
    "                COUNT(*) as Count\n",
    "            FROM Answer\n",
    "            WHERE questionid = 1\n",
    "            GROUP BY Year, AgeGroup\n",
    "            ORDER BY Year, AgeGroup\n",
    "            \"\"\"\n",
    "\n",
    "grouped_data = pd.read_sql_query(age_query, conn)\n",
    "\n",
    "pivot_data = grouped_data.pivot(index=\"Year\", columns=\"AgeGroup\", values=\"Count\")\n",
    "\n",
    "pivot_data.plot(kind=\"bar\", stacked=True, figsize=(12, 8), edgecolor=\"#303845\")\n",
    "plt.title(\"Age Group Distribution Over Years\")\n",
    "plt.xlabel(\"Year\")\n",
    "plt.ylabel(\"Count\")\n",
    "plt.legend(title=\"Age Groups\", loc=\"upper right\")\n",
    "plt.show()"
   ]
  },
  {
   "cell_type": "markdown",
   "id": "9beb75a3",
   "metadata": {},
   "source": [
    "So we can see that most of the data comes from people aged 26-35, the second most frequent age group is 36-45 and then we have 18-25 and 46-55 which are of similar quantity.\n",
    "<br><br>\n",
    "### Gender groups.\n",
    "Let's do the same but with gender."
   ]
  },
  {
   "cell_type": "code",
   "execution_count": 23,
   "id": "ef69f1e9",
   "metadata": {},
   "outputs": [
    {
     "data": {
      "image/png": "[encoded data removed]",
      "text/plain": [
       "<Figure size 1200x800 with 1 Axes>"
      ]
     },
     "metadata": {},
     "output_type": "display_data"
    }
   ],
   "source": [
    "gender_query = \"\"\"\n",
    "                SELECT \n",
    "                    SurveyID AS Year, \n",
    "                    CASE WHEN answertext IN ('female', 'Female') THEN 'Female'\n",
    "                         WHEN answertext IN ('male', 'Male') THEN 'Male' \n",
    "                         ELSE 'Other' END AS Gender,\n",
    "                    COUNT(*) as Count\n",
    "                FROM Answer\n",
    "                WHERE questionid = 2\n",
    "                GROUP BY Year, Gender\n",
    "                ORDER BY Year, Gender\n",
    "                \"\"\"\n",
    "\n",
    "grouped_data = pd.read_sql_query(gender_query, conn)\n",
    "\n",
    "pivot_data = grouped_data.pivot(index=\"Year\", columns=\"Gender\", values=\"Count\")\n",
    "\n",
    "pivot_data.plot(kind=\"bar\", stacked=True, figsize=(12, 8), edgecolor=\"#303845\")\n",
    "plt.title(\"Gender Distribution Over Years\")\n",
    "plt.xlabel(\"Year\")\n",
    "plt.ylabel(\"Count\")\n",
    "plt.legend(title=\"Gender\", loc=\"upper right\")\n",
    "plt.show()"
   ]
  },
  {
   "cell_type": "markdown",
   "id": "66ad3b95",
   "metadata": {},
   "source": [
    "Most of the data comes from males with females representing only about 25-30% of the dataset. A small fraction of people identify themselves with something else and unfortunately we will not be focusing our analysis on them.\n",
    "<br><br>\n",
    "### Primary employer.\n",
    "Our analysis is focused on the tech industry and therefore it is important to filter our dataset for tech workers. Let's see what proportion of the survey results come from this sector."
   ]
  },
  {
   "cell_type": "code",
   "execution_count": 24,
   "id": "5518d9a9",
   "metadata": {
    "scrolled": false
   },
   "outputs": [
    {
     "data": {
      "image/png": "[encoded data removed]",
      "text/plain": [
       "<Figure size 1200x800 with 1 Axes>"
      ]
     },
     "metadata": {},
     "output_type": "display_data"
    }
   ],
   "source": [
    "employer_query = \"\"\"\n",
    "                SELECT \n",
    "                    SurveyID AS Year, \n",
    "                    CASE WHEN answertext = '0' THEN 'No'\n",
    "                         WHEN answertext = '1' THEN 'Yes'\n",
    "                         END AS tech_worker,\n",
    "                    COUNT(*) as Count\n",
    "                FROM Answer\n",
    "                WHERE questionid = 9 AND answertext <> '-1'\n",
    "                GROUP BY Year, tech_worker\n",
    "                ORDER BY Year, tech_worker\n",
    "                \"\"\"\n",
    "\n",
    "employer_df = pd.read_sql_query(employer_query, conn)\n",
    "\n",
    "pivot_data = employer_df.pivot(index=\"Year\", columns=\"tech_worker\", values=\"Count\")\n",
    "\n",
    "pivot_data.plot(kind=\"bar\", stacked=True, figsize=(12, 8), edgecolor=\"#303845\")\n",
    "plt.legend(title=\"Working in Tech\", loc=\"upper right\")\n",
    "plt.xlabel(\"Year\")\n",
    "plt.ylabel(\"Count\")\n",
    "plt.show()"
   ]
  },
  {
   "cell_type": "markdown",
   "id": "5635f7cc",
   "metadata": {},
   "source": [
    "The bigger part of the dataset comes from tech workers on which we are focusing our analysis but 20% of the datapoints come from non-tech workers.<br>"
   ]
  },
  {
   "cell_type": "markdown",
   "id": "a6396c27",
   "metadata": {},
   "source": [
    "# 4. Main analysis.\n",
    "<br>\n",
    "In this part I will be trying to find answers on what are the key areas influencing the mental health of tech workers and what are the assosiated risk factors that could be used by businesses to have a better understanding of their employees needs.\n",
    "<br><br>\n",
    "First we will need to identify which of the workers have said mental issues and what is the proportion of these cases. These can be found in the following questions:<br><br>\n",
    "\t1. Have you had a mental health disorder in the past?  - QuestionID\t32<br>\n",
    "    2. Do you currently have a mental health disorder?\t- QuestionID    33<br>\n",
    "    3. Have you ever been diagnosed with a mental health disorder?  - QuestionID\t  34"
   ]
  },
  {
   "cell_type": "code",
   "execution_count": 25,
   "id": "50c0d14f",
   "metadata": {
    "scrolled": true
   },
   "outputs": [
    {
     "data": {
      "text/html": [
       "<div>\n",
       "<style scoped>\n",
       "    .dataframe tbody tr th:only-of-type {\n",
       "        vertical-align: middle;\n",
       "    }\n",
       "\n",
       "    .dataframe tbody tr th {\n",
       "        vertical-align: top;\n",
       "    }\n",
       "\n",
       "    .dataframe thead th {\n",
       "        text-align: right;\n",
       "    }\n",
       "</style>\n",
       "<table border=\"1\" class=\"dataframe\">\n",
       "  <thead>\n",
       "    <tr style=\"text-align: right;\">\n",
       "      <th></th>\n",
       "      <th>AnswerText</th>\n",
       "      <th>QuestionID</th>\n",
       "      <th>COUNT(*)</th>\n",
       "    </tr>\n",
       "  </thead>\n",
       "  <tbody>\n",
       "    <tr>\n",
       "      <th>0</th>\n",
       "      <td>-1</td>\n",
       "      <td>32</td>\n",
       "      <td>15</td>\n",
       "    </tr>\n",
       "    <tr>\n",
       "      <th>1</th>\n",
       "      <td>Don't Know</td>\n",
       "      <td>32</td>\n",
       "      <td>109</td>\n",
       "    </tr>\n",
       "    <tr>\n",
       "      <th>2</th>\n",
       "      <td>Maybe</td>\n",
       "      <td>32</td>\n",
       "      <td>246</td>\n",
       "    </tr>\n",
       "    <tr>\n",
       "      <th>3</th>\n",
       "      <td>No</td>\n",
       "      <td>32</td>\n",
       "      <td>896</td>\n",
       "    </tr>\n",
       "    <tr>\n",
       "      <th>4</th>\n",
       "      <td>Possibly</td>\n",
       "      <td>32</td>\n",
       "      <td>275</td>\n",
       "    </tr>\n",
       "    <tr>\n",
       "      <th>5</th>\n",
       "      <td>Yes</td>\n",
       "      <td>32</td>\n",
       "      <td>1417</td>\n",
       "    </tr>\n",
       "    <tr>\n",
       "      <th>6</th>\n",
       "      <td>Don't Know</td>\n",
       "      <td>33</td>\n",
       "      <td>124</td>\n",
       "    </tr>\n",
       "    <tr>\n",
       "      <th>7</th>\n",
       "      <td>Maybe</td>\n",
       "      <td>33</td>\n",
       "      <td>327</td>\n",
       "    </tr>\n",
       "    <tr>\n",
       "      <th>8</th>\n",
       "      <td>No</td>\n",
       "      <td>33</td>\n",
       "      <td>969</td>\n",
       "    </tr>\n",
       "    <tr>\n",
       "      <th>9</th>\n",
       "      <td>Possibly</td>\n",
       "      <td>33</td>\n",
       "      <td>301</td>\n",
       "    </tr>\n",
       "    <tr>\n",
       "      <th>10</th>\n",
       "      <td>Yes</td>\n",
       "      <td>33</td>\n",
       "      <td>1237</td>\n",
       "    </tr>\n",
       "    <tr>\n",
       "      <th>11</th>\n",
       "      <td>-1</td>\n",
       "      <td>34</td>\n",
       "      <td>863</td>\n",
       "    </tr>\n",
       "    <tr>\n",
       "      <th>12</th>\n",
       "      <td>No</td>\n",
       "      <td>34</td>\n",
       "      <td>732</td>\n",
       "    </tr>\n",
       "    <tr>\n",
       "      <th>13</th>\n",
       "      <td>Yes</td>\n",
       "      <td>34</td>\n",
       "      <td>1363</td>\n",
       "    </tr>\n",
       "  </tbody>\n",
       "</table>\n",
       "</div>"
      ],
      "text/plain": [
       "    AnswerText  QuestionID  COUNT(*)\n",
       "0           -1          32        15\n",
       "1   Don't Know          32       109\n",
       "2        Maybe          32       246\n",
       "3           No          32       896\n",
       "4     Possibly          32       275\n",
       "5          Yes          32      1417\n",
       "6   Don't Know          33       124\n",
       "7        Maybe          33       327\n",
       "8           No          33       969\n",
       "9     Possibly          33       301\n",
       "10         Yes          33      1237\n",
       "11          -1          34       863\n",
       "12          No          34       732\n",
       "13         Yes          34      1363"
      ]
     },
     "execution_count": 25,
     "metadata": {},
     "output_type": "execute_result"
    }
   ],
   "source": [
    "mental_health_query = \"\"\"\n",
    "                      SELECT AnswerText, QuestionID, COUNT(*)\n",
    "                      FROM Answer\n",
    "                      WHERE QuestionID IN(32, 33, 34)\n",
    "                      GROUP BY QuestionID, AnswerText\n",
    "                     \"\"\"\n",
    "mental_health_df = pd.read_sql_query(mental_health_query, conn)\n",
    "mental_health_df"
   ]
  },
  {
   "cell_type": "markdown",
   "id": "695b3594",
   "metadata": {},
   "source": [
    "Before continuing our analysis we will have to classify these as numerical values so we can perform other statistical tests.<br><br>\n",
    "I don't know what -1 means so I will exclude these values from my analysis. \"Don't know\", \"Maybe\" and \"Possibly\" indicate varying degrees of uncertainty so I will try to use these as ordinal variables in this sequence:<br><br>\n",
    "\n",
    "No < Don't know < Maybe < Possibly < Yes\n",
    "<br><br>\n",
    "I will use this encoding to compute correlations:<br>\n",
    "No: 0<br>\n",
    "Don't Know: 0.25<br>\n",
    "Maybe: 0.5<br>\n",
    "Possibly: 0.75<br>\n",
    "Yes: 1<br><br>\n",
    "I would also like to group these by year and whether or not the people are working in tech because I want to see if there is a meaningful difference of mental health between tech and non-tech workers. I also want to see if there is a temporal trend."
   ]
  },
  {
   "cell_type": "code",
   "execution_count": 26,
   "id": "cf9cb1e9",
   "metadata": {
    "scrolled": true
   },
   "outputs": [
    {
     "data": {
      "text/html": [
       "<div>\n",
       "<style scoped>\n",
       "    .dataframe tbody tr th:only-of-type {\n",
       "        vertical-align: middle;\n",
       "    }\n",
       "\n",
       "    .dataframe tbody tr th {\n",
       "        vertical-align: top;\n",
       "    }\n",
       "\n",
       "    .dataframe thead th {\n",
       "        text-align: right;\n",
       "    }\n",
       "</style>\n",
       "<table border=\"1\" class=\"dataframe\">\n",
       "  <thead>\n",
       "    <tr style=\"text-align: right;\">\n",
       "      <th></th>\n",
       "      <th>UserID</th>\n",
       "      <th>mental_health</th>\n",
       "      <th>Year</th>\n",
       "      <th>Tech</th>\n",
       "    </tr>\n",
       "  </thead>\n",
       "  <tbody>\n",
       "    <tr>\n",
       "      <th>0</th>\n",
       "      <td>1261</td>\n",
       "      <td>0.0</td>\n",
       "      <td>2016</td>\n",
       "      <td>1</td>\n",
       "    </tr>\n",
       "    <tr>\n",
       "      <th>1</th>\n",
       "      <td>1261</td>\n",
       "      <td>1.0</td>\n",
       "      <td>2016</td>\n",
       "      <td>1</td>\n",
       "    </tr>\n",
       "    <tr>\n",
       "      <th>2</th>\n",
       "      <td>1261</td>\n",
       "      <td>1.0</td>\n",
       "      <td>2016</td>\n",
       "      <td>1</td>\n",
       "    </tr>\n",
       "    <tr>\n",
       "      <th>3</th>\n",
       "      <td>1262</td>\n",
       "      <td>1.0</td>\n",
       "      <td>2016</td>\n",
       "      <td>1</td>\n",
       "    </tr>\n",
       "    <tr>\n",
       "      <th>4</th>\n",
       "      <td>1262</td>\n",
       "      <td>1.0</td>\n",
       "      <td>2016</td>\n",
       "      <td>1</td>\n",
       "    </tr>\n",
       "  </tbody>\n",
       "</table>\n",
       "</div>"
      ],
      "text/plain": [
       "   UserID  mental_health  Year Tech\n",
       "0    1261            0.0  2016    1\n",
       "1    1261            1.0  2016    1\n",
       "2    1261            1.0  2016    1\n",
       "3    1262            1.0  2016    1\n",
       "4    1262            1.0  2016    1"
      ]
     },
     "execution_count": 26,
     "metadata": {},
     "output_type": "execute_result"
    }
   ],
   "source": [
    "mental_health_query2 = \"\"\"\n",
    "                        SELECT a.UserID,\n",
    "                               CASE WHEN a.AnswerText = 'No' THEN 0\n",
    "                                    WHEN a.AnswerText = \"Don't Know\" THEN 0.25\n",
    "                                    WHEN a.AnswerText = 'Maybe' THEN 0.5\n",
    "                                    WHEN a.AnswerText = 'Possibly' THEN 0.75\n",
    "                                    WHEN a.AnswerText = 'Yes' THEN 1\n",
    "                                    END AS mental_health,\n",
    "                                    a.SurveyID as Year,\n",
    "                                    sub.AnswerText AS Tech\n",
    "                        FROM Answer AS a\n",
    "                        JOIN (\n",
    "                            SELECT UserID,\n",
    "                                   AnswerText\n",
    "                            FROM Answer\n",
    "                            WHERE QuestionID = 9 AND AnswerText <> '-1'\n",
    "                        ) sub\n",
    "                        ON a.UserID = sub.UserID\n",
    "                        WHERE a.QuestionID IN (32, 33, 34) \n",
    "                            AND a.AnswerText <> '-1'\n",
    "                        \"\"\"\n",
    "\n",
    "mental_health_df2 = pd.read_sql_query(mental_health_query2, conn)\n",
    "mental_health_df2.head(5)"
   ]
  },
  {
   "cell_type": "markdown",
   "id": "af1acf53",
   "metadata": {},
   "source": [
    "Now we have values for mental health, the assosiated year and whether or not the person who answered is working in tech. First let's look at the distributions of mental health rating for tech and non-tech individuals. But since this contains values for three questions for each UserID I will take the averages and plot those."
   ]
  },
  {
   "cell_type": "code",
   "execution_count": 27,
   "id": "31018686",
   "metadata": {},
   "outputs": [
    {
     "data": {
      "image/png": "[encoded data removed]",
      "text/plain": [
       "<Figure size 600x1000 with 2 Axes>"
      ]
     },
     "metadata": {},
     "output_type": "display_data"
    }
   ],
   "source": [
    "tech_workers = mental_health_df2[mental_health_df2[\"Tech\"] == \"1\"]\n",
    "grouped_tech = (\n",
    "    tech_workers.groupby(\"UserID\").agg({\"mental_health\": \"mean\"}).reset_index()\n",
    ")\n",
    "\n",
    "non_tech_workers = mental_health_df2[mental_health_df2[\"Tech\"] == \"0\"]\n",
    "grouped_non_tech = (\n",
    "    non_tech_workers.groupby(\"UserID\").agg({\"mental_health\": \"mean\"}).reset_index()\n",
    ")\n",
    "\n",
    "fig, axes = plt.subplots(2, 1, figsize=(6, 10))\n",
    "\n",
    "sns.histplot(\n",
    "    data=grouped_tech,\n",
    "    x=\"mental_health\",\n",
    "    bins=10,\n",
    "    stat=\"proportion\",\n",
    "    ax=axes[0],\n",
    "    color=\"steelblue\",\n",
    "    edgecolor=\"#303845\",\n",
    "    alpha=1,\n",
    ")\n",
    "axes[0].set_title(\"Tech Workers\")\n",
    "axes[0].set_xlabel(\"\")\n",
    "axes[0].set_ylabel(\"Proportion\")\n",
    "\n",
    "sns.histplot(\n",
    "    data=grouped_non_tech,\n",
    "    x=\"mental_health\",\n",
    "    bins=10,\n",
    "    stat=\"proportion\",\n",
    "    ax=axes[1],\n",
    "    edgecolor=\"#303845\",\n",
    "    alpha=1,\n",
    ")\n",
    "axes[1].set_title(\"Non-Tech Workers\")\n",
    "axes[1].set_xlabel(\"Mental Health Score\")\n",
    "axes[1].set_ylabel(\"Proportion\")\n",
    "\n",
    "plt.suptitle(\"Distribution of Mental Health Scores for Tech and Non-Tech Workers\")\n",
    "plt.show()"
   ]
  },
  {
   "cell_type": "code",
   "execution_count": 28,
   "id": "deb23aa3",
   "metadata": {},
   "outputs": [
    {
     "data": {
      "text/html": [
       "<div>\n",
       "<style scoped>\n",
       "    .dataframe tbody tr th:only-of-type {\n",
       "        vertical-align: middle;\n",
       "    }\n",
       "\n",
       "    .dataframe tbody tr th {\n",
       "        vertical-align: top;\n",
       "    }\n",
       "\n",
       "    .dataframe thead th {\n",
       "        text-align: right;\n",
       "    }\n",
       "</style>\n",
       "<table border=\"1\" class=\"dataframe\">\n",
       "  <thead>\n",
       "    <tr style=\"text-align: right;\">\n",
       "      <th></th>\n",
       "      <th>mental_health</th>\n",
       "      <th>Tech</th>\n",
       "    </tr>\n",
       "  </thead>\n",
       "  <tbody>\n",
       "    <tr>\n",
       "      <th>mental_health</th>\n",
       "      <td>1.000000</td>\n",
       "      <td>-0.022224</td>\n",
       "    </tr>\n",
       "    <tr>\n",
       "      <th>Tech</th>\n",
       "      <td>-0.022224</td>\n",
       "      <td>1.000000</td>\n",
       "    </tr>\n",
       "  </tbody>\n",
       "</table>\n",
       "</div>"
      ],
      "text/plain": [
       "               mental_health      Tech\n",
       "mental_health       1.000000 -0.022224\n",
       "Tech               -0.022224  1.000000"
      ]
     },
     "execution_count": 28,
     "metadata": {},
     "output_type": "execute_result"
    }
   ],
   "source": [
    "mental_health_grouped = mental_health_df2.groupby(\"UserID\").agg(\n",
    "    {\"mental_health\": \"mean\", \"Tech\": \"first\"}\n",
    ")\n",
    "mental_health_grouped.corr()"
   ]
  },
  {
   "cell_type": "markdown",
   "id": "6a672cf1",
   "metadata": {},
   "source": [
    "So apparently within this dataset there seems to be almost no difference between the mental health status for tech and non-tech workers. There is no correlation between the variables.<br><br>\n",
    "Regardless we see that there are more datapoints on the right side of the plot which means that the bigger part of survey takers have had mental health issues diagnosed in the past or currently are struggling with them so that's why it's important for us to uncover the assosiated risk factors. <br><br>\n",
    "### Gender and mental health.\n",
    "But before that let's also look at the different distributions based on gender."
   ]
  },
  {
   "cell_type": "code",
   "execution_count": 29,
   "id": "328fec71",
   "metadata": {
    "scrolled": false
   },
   "outputs": [
    {
     "data": {
      "text/html": [
       "<div>\n",
       "<style scoped>\n",
       "    .dataframe tbody tr th:only-of-type {\n",
       "        vertical-align: middle;\n",
       "    }\n",
       "\n",
       "    .dataframe tbody tr th {\n",
       "        vertical-align: top;\n",
       "    }\n",
       "\n",
       "    .dataframe thead th {\n",
       "        text-align: right;\n",
       "    }\n",
       "</style>\n",
       "<table border=\"1\" class=\"dataframe\">\n",
       "  <thead>\n",
       "    <tr style=\"text-align: right;\">\n",
       "      <th></th>\n",
       "      <th>UserID</th>\n",
       "      <th>mental_health</th>\n",
       "      <th>Year</th>\n",
       "      <th>Gender</th>\n",
       "    </tr>\n",
       "  </thead>\n",
       "  <tbody>\n",
       "    <tr>\n",
       "      <th>0</th>\n",
       "      <td>1261</td>\n",
       "      <td>0.0</td>\n",
       "      <td>2016</td>\n",
       "      <td>Male</td>\n",
       "    </tr>\n",
       "    <tr>\n",
       "      <th>1</th>\n",
       "      <td>1261</td>\n",
       "      <td>1.0</td>\n",
       "      <td>2016</td>\n",
       "      <td>Male</td>\n",
       "    </tr>\n",
       "    <tr>\n",
       "      <th>2</th>\n",
       "      <td>1261</td>\n",
       "      <td>1.0</td>\n",
       "      <td>2016</td>\n",
       "      <td>Male</td>\n",
       "    </tr>\n",
       "    <tr>\n",
       "      <th>3</th>\n",
       "      <td>1262</td>\n",
       "      <td>1.0</td>\n",
       "      <td>2016</td>\n",
       "      <td>Male</td>\n",
       "    </tr>\n",
       "    <tr>\n",
       "      <th>4</th>\n",
       "      <td>1262</td>\n",
       "      <td>1.0</td>\n",
       "      <td>2016</td>\n",
       "      <td>Male</td>\n",
       "    </tr>\n",
       "  </tbody>\n",
       "</table>\n",
       "</div>"
      ],
      "text/plain": [
       "   UserID  mental_health  Year Gender\n",
       "0    1261            0.0  2016   Male\n",
       "1    1261            1.0  2016   Male\n",
       "2    1261            1.0  2016   Male\n",
       "3    1262            1.0  2016   Male\n",
       "4    1262            1.0  2016   Male"
      ]
     },
     "execution_count": 29,
     "metadata": {},
     "output_type": "execute_result"
    }
   ],
   "source": [
    "mental_health_query3 = \"\"\"\n",
    "                        SELECT a.UserID,\n",
    "                               CASE WHEN a.AnswerText = 'No' THEN 0\n",
    "                                    WHEN a.AnswerText = \"Don't Know\" THEN 0.25\n",
    "                                    WHEN a.AnswerText = 'Maybe' THEN 0.5\n",
    "                                    WHEN a.AnswerText = 'Possibly' THEN 0.75\n",
    "                                    WHEN a.AnswerText = 'Yes' THEN 1\n",
    "                                    END AS mental_health,\n",
    "                                    a.SurveyID as Year,\n",
    "                                    sub.Gender\n",
    "                        FROM Answer AS a\n",
    "                        JOIN (\n",
    "                            SELECT UserID,\n",
    "                                   CASE WHEN answertext IN ('female', 'Female') THEN 'Female'\n",
    "                                        WHEN answertext IN ('male', 'Male') THEN 'Male' \n",
    "                                        ELSE 'Other' END AS Gender\n",
    "                            FROM Answer\n",
    "                            WHERE questionid = 2\n",
    "                        ) sub\n",
    "                        ON a.UserID = sub.UserID\n",
    "                        WHERE a.QuestionID IN (32, 33, 34) \n",
    "                            AND a.AnswerText <> '-1'\n",
    "                        \"\"\"\n",
    "\n",
    "\n",
    "mental_health_df3 = pd.read_sql_query(mental_health_query3, conn)\n",
    "mental_health_df3.head(5)"
   ]
  },
  {
   "cell_type": "code",
   "execution_count": 30,
   "id": "d73f1872",
   "metadata": {
    "scrolled": false
   },
   "outputs": [
    {
     "data": {
      "image/png": "[encoded data removed]",
      "text/plain": [
       "<Figure size 600x1000 with 2 Axes>"
      ]
     },
     "metadata": {},
     "output_type": "display_data"
    }
   ],
   "source": [
    "male_workers = mental_health_df3[mental_health_df3[\"Gender\"] == \"Male\"]\n",
    "grouped_male = (\n",
    "    male_workers.groupby(\"UserID\").agg({\"mental_health\": \"mean\"}).reset_index()\n",
    ")\n",
    "\n",
    "female_workers = mental_health_df3[mental_health_df3[\"Gender\"] == \"Female\"]\n",
    "grouped_female = (\n",
    "    female_workers.groupby(\"UserID\").agg({\"mental_health\": \"mean\"}).reset_index()\n",
    ")\n",
    "\n",
    "fig, axes = plt.subplots(2, 1, figsize=(6, 10))\n",
    "\n",
    "sns.histplot(\n",
    "    data=grouped_male,\n",
    "    x=\"mental_health\",\n",
    "    bins=10,\n",
    "    stat=\"proportion\",\n",
    "    ax=axes[0],\n",
    "    color=\"steelblue\",\n",
    "    edgecolor=\"#303845\",\n",
    "    alpha=1,\n",
    ")\n",
    "axes[0].set_title(\"Male Workers\")\n",
    "axes[0].set_xlabel(\"\")\n",
    "axes[0].set_ylabel(\"Proportion\")\n",
    "\n",
    "sns.histplot(\n",
    "    data=grouped_female,\n",
    "    x=\"mental_health\",\n",
    "    bins=10,\n",
    "    stat=\"proportion\",\n",
    "    ax=axes[1],\n",
    "    edgecolor=\"#303845\",\n",
    "    alpha=1,\n",
    ")\n",
    "axes[1].set_title(\"Female Workers\")\n",
    "axes[1].set_xlabel(\"Mental Health Score\")\n",
    "axes[1].set_ylabel(\"Proportion\")\n",
    "\n",
    "plt.suptitle(\"Distribution of Mental Health Scores for Male and Female Workers\")\n",
    "plt.show()"
   ]
  },
  {
   "cell_type": "code",
   "execution_count": 31,
   "id": "11f8b203",
   "metadata": {},
   "outputs": [
    {
     "data": {
      "text/html": [
       "<div>\n",
       "<style scoped>\n",
       "    .dataframe tbody tr th:only-of-type {\n",
       "        vertical-align: middle;\n",
       "    }\n",
       "\n",
       "    .dataframe tbody tr th {\n",
       "        vertical-align: top;\n",
       "    }\n",
       "\n",
       "    .dataframe thead th {\n",
       "        text-align: right;\n",
       "    }\n",
       "</style>\n",
       "<table border=\"1\" class=\"dataframe\">\n",
       "  <thead>\n",
       "    <tr style=\"text-align: right;\">\n",
       "      <th></th>\n",
       "      <th>mental_health</th>\n",
       "      <th>Gender</th>\n",
       "    </tr>\n",
       "    <tr>\n",
       "      <th>UserID</th>\n",
       "      <th></th>\n",
       "      <th></th>\n",
       "    </tr>\n",
       "  </thead>\n",
       "  <tbody>\n",
       "    <tr>\n",
       "      <th>1261</th>\n",
       "      <td>0.666667</td>\n",
       "      <td>1.0</td>\n",
       "    </tr>\n",
       "    <tr>\n",
       "      <th>1262</th>\n",
       "      <td>1.000000</td>\n",
       "      <td>1.0</td>\n",
       "    </tr>\n",
       "    <tr>\n",
       "      <th>1263</th>\n",
       "      <td>0.166667</td>\n",
       "      <td>1.0</td>\n",
       "    </tr>\n",
       "    <tr>\n",
       "      <th>1264</th>\n",
       "      <td>1.000000</td>\n",
       "      <td>1.0</td>\n",
       "    </tr>\n",
       "    <tr>\n",
       "      <th>1265</th>\n",
       "      <td>1.000000</td>\n",
       "      <td>0.0</td>\n",
       "    </tr>\n",
       "  </tbody>\n",
       "</table>\n",
       "</div>"
      ],
      "text/plain": [
       "        mental_health  Gender\n",
       "UserID                       \n",
       "1261         0.666667     1.0\n",
       "1262         1.000000     1.0\n",
       "1263         0.166667     1.0\n",
       "1264         1.000000     1.0\n",
       "1265         1.000000     0.0"
      ]
     },
     "execution_count": 31,
     "metadata": {},
     "output_type": "execute_result"
    }
   ],
   "source": [
    "mental_health_df3[\"Gender\"] = mental_health_df3[\"Gender\"].map({\"Male\": 1, \"Female\": 0})\n",
    "mental_health_grouped = mental_health_df3.groupby(\"UserID\").agg(\n",
    "    {\"mental_health\": \"mean\", \"Gender\": \"first\"}\n",
    ")\n",
    "\n",
    "mental_health_grouped.head(5)"
   ]
  },
  {
   "cell_type": "code",
   "execution_count": 32,
   "id": "b3f34eb1",
   "metadata": {},
   "outputs": [
    {
     "data": {
      "text/html": [
       "<div>\n",
       "<style scoped>\n",
       "    .dataframe tbody tr th:only-of-type {\n",
       "        vertical-align: middle;\n",
       "    }\n",
       "\n",
       "    .dataframe tbody tr th {\n",
       "        vertical-align: top;\n",
       "    }\n",
       "\n",
       "    .dataframe thead th {\n",
       "        text-align: right;\n",
       "    }\n",
       "</style>\n",
       "<table border=\"1\" class=\"dataframe\">\n",
       "  <thead>\n",
       "    <tr style=\"text-align: right;\">\n",
       "      <th></th>\n",
       "      <th>mental_health</th>\n",
       "      <th>Gender</th>\n",
       "    </tr>\n",
       "  </thead>\n",
       "  <tbody>\n",
       "    <tr>\n",
       "      <th>mental_health</th>\n",
       "      <td>1.000000</td>\n",
       "      <td>-0.178928</td>\n",
       "    </tr>\n",
       "    <tr>\n",
       "      <th>Gender</th>\n",
       "      <td>-0.178928</td>\n",
       "      <td>1.000000</td>\n",
       "    </tr>\n",
       "  </tbody>\n",
       "</table>\n",
       "</div>"
      ],
      "text/plain": [
       "               mental_health    Gender\n",
       "mental_health       1.000000 -0.178928\n",
       "Gender             -0.178928  1.000000"
      ]
     },
     "execution_count": 32,
     "metadata": {},
     "output_type": "execute_result"
    }
   ],
   "source": [
    "mental_health_grouped.corr()"
   ]
  },
  {
   "cell_type": "markdown",
   "id": "58bfbb1f",
   "metadata": {},
   "source": [
    "Hmm, it seems that females are struggling a lot more with mental health with 50% having been diagnosed or currently having a mental health issue and only 16% who have no signs.<br><br>\n",
    "Whereas males with current or previous mental health issues amount to only about 30% and 27% reporting no issues. It could be that males are more reluctant to disclose their problems as well. <br><br>\n",
    "But this is mostly visible on the edges around 0 and 1, around the middle there is a similar situation for both genders and the correlation of the two variables is insignificant.\n",
    "### Job role in IT and mental health.\n",
    "The previous comparison for tech workers was about people working in tech, there is another question with the ID 13 about whether or not the person's role is in IT. This could be a better indicator so let's see what we find."
   ]
  },
  {
   "cell_type": "code",
   "execution_count": 33,
   "id": "b5b1cd4b",
   "metadata": {
    "scrolled": true
   },
   "outputs": [
    {
     "data": {
      "text/html": [
       "<div>\n",
       "<style scoped>\n",
       "    .dataframe tbody tr th:only-of-type {\n",
       "        vertical-align: middle;\n",
       "    }\n",
       "\n",
       "    .dataframe tbody tr th {\n",
       "        vertical-align: top;\n",
       "    }\n",
       "\n",
       "    .dataframe thead th {\n",
       "        text-align: right;\n",
       "    }\n",
       "</style>\n",
       "<table border=\"1\" class=\"dataframe\">\n",
       "  <thead>\n",
       "    <tr style=\"text-align: right;\">\n",
       "      <th></th>\n",
       "      <th>UserID</th>\n",
       "      <th>mental_health</th>\n",
       "      <th>Year</th>\n",
       "      <th>Tech</th>\n",
       "    </tr>\n",
       "  </thead>\n",
       "  <tbody>\n",
       "    <tr>\n",
       "      <th>0</th>\n",
       "      <td>1265</td>\n",
       "      <td>1.0</td>\n",
       "      <td>2016</td>\n",
       "      <td>1</td>\n",
       "    </tr>\n",
       "    <tr>\n",
       "      <th>1</th>\n",
       "      <td>1265</td>\n",
       "      <td>1.0</td>\n",
       "      <td>2016</td>\n",
       "      <td>1</td>\n",
       "    </tr>\n",
       "    <tr>\n",
       "      <th>2</th>\n",
       "      <td>1265</td>\n",
       "      <td>1.0</td>\n",
       "      <td>2016</td>\n",
       "      <td>1</td>\n",
       "    </tr>\n",
       "    <tr>\n",
       "      <th>3</th>\n",
       "      <td>1269</td>\n",
       "      <td>1.0</td>\n",
       "      <td>2016</td>\n",
       "      <td>1</td>\n",
       "    </tr>\n",
       "    <tr>\n",
       "      <th>4</th>\n",
       "      <td>1269</td>\n",
       "      <td>1.0</td>\n",
       "      <td>2016</td>\n",
       "      <td>1</td>\n",
       "    </tr>\n",
       "  </tbody>\n",
       "</table>\n",
       "</div>"
      ],
      "text/plain": [
       "   UserID  mental_health  Year Tech\n",
       "0    1265            1.0  2016    1\n",
       "1    1265            1.0  2016    1\n",
       "2    1265            1.0  2016    1\n",
       "3    1269            1.0  2016    1\n",
       "4    1269            1.0  2016    1"
      ]
     },
     "execution_count": 33,
     "metadata": {},
     "output_type": "execute_result"
    }
   ],
   "source": [
    "mental_health_query4 = \"\"\"\n",
    "                        SELECT a.UserID,\n",
    "                               CASE WHEN a.AnswerText = 'No' THEN 0\n",
    "                                    WHEN a.AnswerText = \"Don't Know\" THEN 0.25\n",
    "                                    WHEN a.AnswerText = 'Maybe' THEN 0.5\n",
    "                                    WHEN a.AnswerText = 'Possibly' THEN 0.75\n",
    "                                    WHEN a.AnswerText = 'Yes' THEN 1\n",
    "                                    END AS mental_health,\n",
    "                                    a.SurveyID as Year,\n",
    "                                    sub.AnswerText AS Tech\n",
    "                        FROM Answer AS a\n",
    "                        JOIN (\n",
    "                            SELECT UserID,\n",
    "                                   AnswerText\n",
    "                            FROM Answer\n",
    "                            WHERE QuestionID = 13 AND AnswerText <> '-1'\n",
    "                        ) sub\n",
    "                        ON a.UserID = sub.UserID\n",
    "                        WHERE a.QuestionID IN (32, 33, 34) \n",
    "                            AND a.AnswerText <> '-1'\n",
    "                        \"\"\"\n",
    "\n",
    "mental_health_df4 = pd.read_sql_query(mental_health_query4, conn)\n",
    "mental_health_df4.head(5)"
   ]
  },
  {
   "cell_type": "code",
   "execution_count": 34,
   "id": "3d4e1b1e",
   "metadata": {
    "scrolled": false
   },
   "outputs": [
    {
     "data": {
      "image/png": "[encoded data removed]",
      "text/plain": [
       "<Figure size 600x1000 with 2 Axes>"
      ]
     },
     "metadata": {},
     "output_type": "display_data"
    }
   ],
   "source": [
    "job_with_it = mental_health_df4[mental_health_df4[\"Tech\"] == \"1\"]\n",
    "grouped_tech = (\n",
    "    job_with_it.groupby(\"UserID\").agg({\"mental_health\": \"mean\"}).reset_index()\n",
    ")\n",
    "\n",
    "other_job = mental_health_df4[mental_health_df4[\"Tech\"] == \"0\"]\n",
    "grouped_non_tech = (\n",
    "    other_job.groupby(\"UserID\").agg({\"mental_health\": \"mean\"}).reset_index()\n",
    ")\n",
    "\n",
    "fig, axes = plt.subplots(2, 1, figsize=(6, 10))\n",
    "\n",
    "sns.histplot(\n",
    "    data=grouped_tech,\n",
    "    x=\"mental_health\",\n",
    "    bins=10,\n",
    "    stat=\"proportion\",\n",
    "    ax=axes[0],\n",
    "    color=\"steelblue\",\n",
    "    edgecolor=\"#303845\",\n",
    "    alpha=1,\n",
    ")\n",
    "axes[0].set_title(\"Job within IT\")\n",
    "axes[0].set_xlabel(\"\")\n",
    "axes[0].set_ylabel(\"Proportion\")\n",
    "\n",
    "sns.histplot(\n",
    "    data=grouped_non_tech,\n",
    "    x=\"mental_health\",\n",
    "    bins=10,\n",
    "    stat=\"proportion\",\n",
    "    ax=axes[1],\n",
    "    edgecolor=\"#303845\",\n",
    "    alpha=1,\n",
    ")\n",
    "axes[1].set_title(\"Other jobs\")\n",
    "axes[1].set_xlabel(\"Mental Health Score\")\n",
    "axes[1].set_ylabel(\"Proportion\")\n",
    "\n",
    "plt.suptitle(\"Distribution of Mental Health Scores for Tech and Non-Tech Workers\")\n",
    "plt.show()"
   ]
  },
  {
   "cell_type": "code",
   "execution_count": 53,
   "id": "1c5ad6f6",
   "metadata": {},
   "outputs": [
    {
     "data": {
      "text/html": [
       "<div>\n",
       "<style scoped>\n",
       "    .dataframe tbody tr th:only-of-type {\n",
       "        vertical-align: middle;\n",
       "    }\n",
       "\n",
       "    .dataframe tbody tr th {\n",
       "        vertical-align: top;\n",
       "    }\n",
       "\n",
       "    .dataframe thead th {\n",
       "        text-align: right;\n",
       "    }\n",
       "</style>\n",
       "<table border=\"1\" class=\"dataframe\">\n",
       "  <thead>\n",
       "    <tr style=\"text-align: right;\">\n",
       "      <th></th>\n",
       "      <th>mental_health</th>\n",
       "      <th>Tech</th>\n",
       "    </tr>\n",
       "  </thead>\n",
       "  <tbody>\n",
       "    <tr>\n",
       "      <th>mental_health</th>\n",
       "      <td>1.000000</td>\n",
       "      <td>-0.015694</td>\n",
       "    </tr>\n",
       "    <tr>\n",
       "      <th>Tech</th>\n",
       "      <td>-0.015694</td>\n",
       "      <td>1.000000</td>\n",
       "    </tr>\n",
       "  </tbody>\n",
       "</table>\n",
       "</div>"
      ],
      "text/plain": [
       "               mental_health      Tech\n",
       "mental_health       1.000000 -0.015694\n",
       "Tech               -0.015694  1.000000"
      ]
     },
     "execution_count": 53,
     "metadata": {},
     "output_type": "execute_result"
    }
   ],
   "source": [
    "mental_health_df4[\"Tech\"] = mental_health_df4[\"Tech\"].astype(int)\n",
    "mental_health_df4[[\"mental_health\", \"Tech\"]].corr()"
   ]
  },
  {
   "cell_type": "markdown",
   "id": "656c1a9d",
   "metadata": {},
   "source": [
    "Again we see something similar as before, maybe even slightly more healthy answers from people who's job is within the IT field, but no significant difference.<br><br>\n",
    "### Working in IT and Gender vs. mental health.\n",
    "Let's combine the two genders and people working in IT to create some boxplots and see if there is any meaningful difference. First we will have to combine the two queries."
   ]
  },
  {
   "cell_type": "code",
   "execution_count": 35,
   "id": "1c22d6e9",
   "metadata": {},
   "outputs": [
    {
     "data": {
      "text/html": [
       "<div>\n",
       "<style scoped>\n",
       "    .dataframe tbody tr th:only-of-type {\n",
       "        vertical-align: middle;\n",
       "    }\n",
       "\n",
       "    .dataframe tbody tr th {\n",
       "        vertical-align: top;\n",
       "    }\n",
       "\n",
       "    .dataframe thead th {\n",
       "        text-align: right;\n",
       "    }\n",
       "</style>\n",
       "<table border=\"1\" class=\"dataframe\">\n",
       "  <thead>\n",
       "    <tr style=\"text-align: right;\">\n",
       "      <th></th>\n",
       "      <th>UserID</th>\n",
       "      <th>mental_health</th>\n",
       "      <th>Year</th>\n",
       "      <th>Tech</th>\n",
       "      <th>Gender</th>\n",
       "    </tr>\n",
       "  </thead>\n",
       "  <tbody>\n",
       "    <tr>\n",
       "      <th>0</th>\n",
       "      <td>1265</td>\n",
       "      <td>1.0</td>\n",
       "      <td>2016</td>\n",
       "      <td>1</td>\n",
       "      <td>Female</td>\n",
       "    </tr>\n",
       "    <tr>\n",
       "      <th>1</th>\n",
       "      <td>1265</td>\n",
       "      <td>1.0</td>\n",
       "      <td>2016</td>\n",
       "      <td>1</td>\n",
       "      <td>Female</td>\n",
       "    </tr>\n",
       "    <tr>\n",
       "      <th>2</th>\n",
       "      <td>1265</td>\n",
       "      <td>1.0</td>\n",
       "      <td>2016</td>\n",
       "      <td>1</td>\n",
       "      <td>Female</td>\n",
       "    </tr>\n",
       "    <tr>\n",
       "      <th>3</th>\n",
       "      <td>1269</td>\n",
       "      <td>1.0</td>\n",
       "      <td>2016</td>\n",
       "      <td>1</td>\n",
       "      <td>Female</td>\n",
       "    </tr>\n",
       "    <tr>\n",
       "      <th>4</th>\n",
       "      <td>1269</td>\n",
       "      <td>1.0</td>\n",
       "      <td>2016</td>\n",
       "      <td>1</td>\n",
       "      <td>Female</td>\n",
       "    </tr>\n",
       "  </tbody>\n",
       "</table>\n",
       "</div>"
      ],
      "text/plain": [
       "   UserID  mental_health  Year Tech  Gender\n",
       "0    1265            1.0  2016    1  Female\n",
       "1    1265            1.0  2016    1  Female\n",
       "2    1265            1.0  2016    1  Female\n",
       "3    1269            1.0  2016    1  Female\n",
       "4    1269            1.0  2016    1  Female"
      ]
     },
     "execution_count": 35,
     "metadata": {},
     "output_type": "execute_result"
    }
   ],
   "source": [
    "mental_health_query5 = \"\"\"\n",
    "                        SELECT a.UserID,\n",
    "                               CASE WHEN a.AnswerText = 'No' THEN 0\n",
    "                                    WHEN a.AnswerText = \"Don't Know\" THEN 0.25\n",
    "                                    WHEN a.AnswerText = 'Maybe' THEN 0.5\n",
    "                                    WHEN a.AnswerText = 'Possibly' THEN 0.75\n",
    "                                    WHEN a.AnswerText = 'Yes' THEN 1\n",
    "                                    END AS mental_health,\n",
    "                                    a.SurveyID as Year,\n",
    "                                    sub.AnswerText AS Tech,\n",
    "                                    sub2.Gender\n",
    "                        FROM Answer AS a\n",
    "                        JOIN (\n",
    "                            SELECT UserID,\n",
    "                                   AnswerText\n",
    "                            FROM Answer\n",
    "                            WHERE QuestionID = 13 AND AnswerText <> '-1'\n",
    "                        ) sub\n",
    "                        ON a.UserID = sub.UserID\n",
    "                        JOIN (\n",
    "                            SELECT UserID,\n",
    "                                   CASE WHEN answertext IN ('female', 'Female') THEN 'Female'\n",
    "                                        WHEN answertext IN ('male', 'Male') THEN 'Male' \n",
    "                                        END AS Gender\n",
    "                            FROM Answer\n",
    "                            WHERE questionid = 2 AND answertext IN ('female', 'Female', 'male', 'Male')\n",
    "                        ) sub2\n",
    "                        ON a.UserID = sub2.UserID\n",
    "                        WHERE a.QuestionID IN (32, 33, 34) \n",
    "                            AND a.AnswerText <> '-1'\n",
    "                        \"\"\"\n",
    "\n",
    "mental_health_df5 = pd.read_sql_query(mental_health_query5, conn)\n",
    "mental_health_df5.head(5)"
   ]
  },
  {
   "cell_type": "code",
   "execution_count": 36,
   "id": "1eb6284b",
   "metadata": {
    "scrolled": false
   },
   "outputs": [
    {
     "data": {
      "text/html": [
       "<div>\n",
       "<style scoped>\n",
       "    .dataframe tbody tr th:only-of-type {\n",
       "        vertical-align: middle;\n",
       "    }\n",
       "\n",
       "    .dataframe tbody tr th {\n",
       "        vertical-align: top;\n",
       "    }\n",
       "\n",
       "    .dataframe thead th {\n",
       "        text-align: right;\n",
       "    }\n",
       "</style>\n",
       "<table border=\"1\" class=\"dataframe\">\n",
       "  <thead>\n",
       "    <tr style=\"text-align: right;\">\n",
       "      <th></th>\n",
       "      <th>UserID</th>\n",
       "      <th>mental_health</th>\n",
       "      <th>Year</th>\n",
       "      <th>Tech</th>\n",
       "      <th>Gender</th>\n",
       "      <th>Group</th>\n",
       "    </tr>\n",
       "  </thead>\n",
       "  <tbody>\n",
       "    <tr>\n",
       "      <th>0</th>\n",
       "      <td>1265</td>\n",
       "      <td>1.0</td>\n",
       "      <td>2016</td>\n",
       "      <td>Job in IT</td>\n",
       "      <td>Female</td>\n",
       "      <td>Job in IT &amp; Female</td>\n",
       "    </tr>\n",
       "    <tr>\n",
       "      <th>1</th>\n",
       "      <td>1265</td>\n",
       "      <td>1.0</td>\n",
       "      <td>2016</td>\n",
       "      <td>Job in IT</td>\n",
       "      <td>Female</td>\n",
       "      <td>Job in IT &amp; Female</td>\n",
       "    </tr>\n",
       "    <tr>\n",
       "      <th>2</th>\n",
       "      <td>1265</td>\n",
       "      <td>1.0</td>\n",
       "      <td>2016</td>\n",
       "      <td>Job in IT</td>\n",
       "      <td>Female</td>\n",
       "      <td>Job in IT &amp; Female</td>\n",
       "    </tr>\n",
       "    <tr>\n",
       "      <th>3</th>\n",
       "      <td>1269</td>\n",
       "      <td>1.0</td>\n",
       "      <td>2016</td>\n",
       "      <td>Job in IT</td>\n",
       "      <td>Female</td>\n",
       "      <td>Job in IT &amp; Female</td>\n",
       "    </tr>\n",
       "    <tr>\n",
       "      <th>4</th>\n",
       "      <td>1269</td>\n",
       "      <td>1.0</td>\n",
       "      <td>2016</td>\n",
       "      <td>Job in IT</td>\n",
       "      <td>Female</td>\n",
       "      <td>Job in IT &amp; Female</td>\n",
       "    </tr>\n",
       "  </tbody>\n",
       "</table>\n",
       "</div>"
      ],
      "text/plain": [
       "   UserID  mental_health  Year       Tech  Gender               Group\n",
       "0    1265            1.0  2016  Job in IT  Female  Job in IT & Female\n",
       "1    1265            1.0  2016  Job in IT  Female  Job in IT & Female\n",
       "2    1265            1.0  2016  Job in IT  Female  Job in IT & Female\n",
       "3    1269            1.0  2016  Job in IT  Female  Job in IT & Female\n",
       "4    1269            1.0  2016  Job in IT  Female  Job in IT & Female"
      ]
     },
     "execution_count": 36,
     "metadata": {},
     "output_type": "execute_result"
    }
   ],
   "source": [
    "mental_health_df5[\"Tech\"] = mental_health_df5[\"Tech\"].map(\n",
    "    {\"1\": \"Job in IT\", \"0\": \"Other jobs\"}\n",
    ")\n",
    "mental_health_df5[\"Group\"] = (\n",
    "    mental_health_df5[\"Tech\"] + \" & \" + mental_health_df5[\"Gender\"]\n",
    ")\n",
    "\n",
    "mental_health_df5.head(5)"
   ]
  },
  {
   "cell_type": "code",
   "execution_count": 37,
   "id": "4389edbd",
   "metadata": {
    "scrolled": false
   },
   "outputs": [
    {
     "data": {
      "image/png": "[encoded data removed]",
      "text/plain": [
       "<Figure size 1000x600 with 1 Axes>"
      ]
     },
     "metadata": {},
     "output_type": "display_data"
    }
   ],
   "source": [
    "plt.figure(figsize=(10, 6))\n",
    "ax = sns.boxplot(\n",
    "    x=\"Group\",\n",
    "    y=\"mental_health\",\n",
    "    data=mental_health_df5,\n",
    "    linewidth=2.5,\n",
    "    boxprops={\"edgecolor\": \"lightblue\"},\n",
    "    whiskerprops={\"color\": \"lightblue\", \"linewidth\": 2},\n",
    "    capprops={\"color\": \"lightblue\", \"linewidth\": 2},\n",
    "    medianprops={\"color\": \"lightblue\", \"linewidth\": 2},\n",
    ")\n",
    "ax.set_title(\"Mental Health Scores by Group\")\n",
    "ax.set_xlabel(\"Group\")\n",
    "ax.set_ylabel(\"Mental Health Score\")\n",
    "plt.xticks(rotation=45)\n",
    "\n",
    "plt.show()"
   ]
  },
  {
   "cell_type": "markdown",
   "id": "efc52a1b",
   "metadata": {},
   "source": [
    "So the trend seems to be that females struggle with mental health more but females who also work in IT tend to struggle even more.<br><br> Here are the average mental health scores for each group with 1 meaning that the person has had issues in the past and has them currently while 0 means that they are completely fine."
   ]
  },
  {
   "cell_type": "code",
   "execution_count": 38,
   "id": "2eed7df7",
   "metadata": {},
   "outputs": [
    {
     "data": {
      "text/html": [
       "<div>\n",
       "<style scoped>\n",
       "    .dataframe tbody tr th:only-of-type {\n",
       "        vertical-align: middle;\n",
       "    }\n",
       "\n",
       "    .dataframe tbody tr th {\n",
       "        vertical-align: top;\n",
       "    }\n",
       "\n",
       "    .dataframe thead th {\n",
       "        text-align: right;\n",
       "    }\n",
       "</style>\n",
       "<table border=\"1\" class=\"dataframe\">\n",
       "  <thead>\n",
       "    <tr style=\"text-align: right;\">\n",
       "      <th></th>\n",
       "      <th>mental_health</th>\n",
       "    </tr>\n",
       "    <tr>\n",
       "      <th>Group</th>\n",
       "      <th></th>\n",
       "    </tr>\n",
       "  </thead>\n",
       "  <tbody>\n",
       "    <tr>\n",
       "      <th>Job in IT &amp; Female</th>\n",
       "      <td>0.740679</td>\n",
       "    </tr>\n",
       "    <tr>\n",
       "      <th>Job in IT &amp; Male</th>\n",
       "      <td>0.591973</td>\n",
       "    </tr>\n",
       "    <tr>\n",
       "      <th>Other jobs &amp; Female</th>\n",
       "      <td>0.721154</td>\n",
       "    </tr>\n",
       "    <tr>\n",
       "      <th>Other jobs &amp; Male</th>\n",
       "      <td>0.558989</td>\n",
       "    </tr>\n",
       "  </tbody>\n",
       "</table>\n",
       "</div>"
      ],
      "text/plain": [
       "                     mental_health\n",
       "Group                             \n",
       "Job in IT & Female        0.740679\n",
       "Job in IT & Male          0.591973\n",
       "Other jobs & Female       0.721154\n",
       "Other jobs & Male         0.558989"
      ]
     },
     "execution_count": 38,
     "metadata": {},
     "output_type": "execute_result"
    }
   ],
   "source": [
    "mental_health_averages = mental_health_df5.groupby(\"Group\").agg(\n",
    "    {\"mental_health\": \"mean\"}\n",
    ")\n",
    "mental_health_averages"
   ]
  },
  {
   "cell_type": "markdown",
   "id": "c9c473c6",
   "metadata": {},
   "source": [
    "The average mental health score is higher (worse) for females by about 0.15 - 0.18 points with females in IT having 0.02 worse score than ones working in other fields.<br><br>\n",
    "### Mental health in the USA compared to the rest of the world."
   ]
  },
  {
   "cell_type": "code",
   "execution_count": 39,
   "id": "806b0604",
   "metadata": {
    "scrolled": true
   },
   "outputs": [
    {
     "data": {
      "text/html": [
       "<div>\n",
       "<style scoped>\n",
       "    .dataframe tbody tr th:only-of-type {\n",
       "        vertical-align: middle;\n",
       "    }\n",
       "\n",
       "    .dataframe tbody tr th {\n",
       "        vertical-align: top;\n",
       "    }\n",
       "\n",
       "    .dataframe thead th {\n",
       "        text-align: right;\n",
       "    }\n",
       "</style>\n",
       "<table border=\"1\" class=\"dataframe\">\n",
       "  <thead>\n",
       "    <tr style=\"text-align: right;\">\n",
       "      <th></th>\n",
       "      <th>COUNT(*)</th>\n",
       "    </tr>\n",
       "  </thead>\n",
       "  <tbody>\n",
       "    <tr>\n",
       "      <th>0</th>\n",
       "      <td>4218</td>\n",
       "    </tr>\n",
       "  </tbody>\n",
       "</table>\n",
       "</div>"
      ],
      "text/plain": [
       "   COUNT(*)\n",
       "0      4218"
      ]
     },
     "execution_count": 39,
     "metadata": {},
     "output_type": "execute_result"
    }
   ],
   "source": [
    "country_query = \"\"\"\n",
    "                 SELECT COUNT(*)\n",
    "                 FROM Answer\n",
    "                 WHERE QuestionID = 3\n",
    "                \"\"\"\n",
    "\n",
    "country_df = pd.read_sql_query(country_query, conn)\n",
    "country_df"
   ]
  },
  {
   "cell_type": "markdown",
   "id": "87a6f97a",
   "metadata": {},
   "source": [
    "There's only 4218 entries for country out of the 250~ thousand but we can still take a look how the United States compare to the rest of the world."
   ]
  },
  {
   "cell_type": "code",
   "execution_count": 62,
   "id": "dedea143",
   "metadata": {},
   "outputs": [
    {
     "data": {
      "text/html": [
       "<div>\n",
       "<style scoped>\n",
       "    .dataframe tbody tr th:only-of-type {\n",
       "        vertical-align: middle;\n",
       "    }\n",
       "\n",
       "    .dataframe tbody tr th {\n",
       "        vertical-align: top;\n",
       "    }\n",
       "\n",
       "    .dataframe thead th {\n",
       "        text-align: right;\n",
       "    }\n",
       "</style>\n",
       "<table border=\"1\" class=\"dataframe\">\n",
       "  <thead>\n",
       "    <tr style=\"text-align: right;\">\n",
       "      <th></th>\n",
       "      <th>mental_health</th>\n",
       "      <th>Country</th>\n",
       "    </tr>\n",
       "  </thead>\n",
       "  <tbody>\n",
       "    <tr>\n",
       "      <th>0</th>\n",
       "      <td>0.0</td>\n",
       "      <td>United Kingdom</td>\n",
       "    </tr>\n",
       "    <tr>\n",
       "      <th>1</th>\n",
       "      <td>1.0</td>\n",
       "      <td>United Kingdom</td>\n",
       "    </tr>\n",
       "    <tr>\n",
       "      <th>2</th>\n",
       "      <td>1.0</td>\n",
       "      <td>United Kingdom</td>\n",
       "    </tr>\n",
       "    <tr>\n",
       "      <th>3</th>\n",
       "      <td>1.0</td>\n",
       "      <td>United States of America</td>\n",
       "    </tr>\n",
       "    <tr>\n",
       "      <th>4</th>\n",
       "      <td>1.0</td>\n",
       "      <td>United States of America</td>\n",
       "    </tr>\n",
       "  </tbody>\n",
       "</table>\n",
       "</div>"
      ],
      "text/plain": [
       "   mental_health                   Country\n",
       "0            0.0            United Kingdom\n",
       "1            1.0            United Kingdom\n",
       "2            1.0            United Kingdom\n",
       "3            1.0  United States of America\n",
       "4            1.0  United States of America"
      ]
     },
     "execution_count": 62,
     "metadata": {},
     "output_type": "execute_result"
    }
   ],
   "source": [
    "usa_vs_world = \"\"\"\n",
    "                        SELECT CASE WHEN a.AnswerText = 'No' THEN 0\n",
    "                                    WHEN a.AnswerText = \"Don't Know\" THEN 0.25\n",
    "                                    WHEN a.AnswerText = 'Maybe' THEN 0.5\n",
    "                                    WHEN a.AnswerText = 'Possibly' THEN 0.75\n",
    "                                    WHEN a.AnswerText = 'Yes' THEN 1\n",
    "                                    END AS mental_health,\n",
    "                                    sub.AnswerText AS Country\n",
    "                        FROM Answer AS a\n",
    "                        JOIN (\n",
    "                            SELECT UserID,\n",
    "                                   AnswerText\n",
    "                            FROM Answer\n",
    "                            WHERE QuestionID = 3 AND AnswerText IS NOT NULL\n",
    "                        ) sub\n",
    "                        ON a.UserID = sub.UserID\n",
    "                        WHERE a.QuestionID IN (32, 33, 34) \n",
    "                            AND a.AnswerText <> '-1'\n",
    "                        \"\"\"\n",
    "\n",
    "usa_vs_world_df = pd.read_sql_query(usa_vs_world, conn)\n",
    "usa_vs_world_df.head(5)"
   ]
  },
  {
   "cell_type": "code",
   "execution_count": 63,
   "id": "d257d0ef",
   "metadata": {},
   "outputs": [
    {
     "name": "stdout",
     "output_type": "stream",
     "text": [
      "Average Mental Health Score in the USA: 0.6626112759643917\n",
      "Average Mental Health Score in the Rest of the World: 0.39120669845535894\n"
     ]
    }
   ],
   "source": [
    "filtered_df = usa_vs_world_df[usa_vs_world_df[\"Country\"] != \"-1\"]\n",
    "\n",
    "country_averages = filtered_df.groupby(\"Country\").agg({\"mental_health\": \"mean\"})\n",
    "\n",
    "usa_average = country_averages.loc[\"United States of America\"]\n",
    "\n",
    "rest_of_world_average = country_averages[\n",
    "    country_averages.index != \"United States of America\"\n",
    "].mean()\n",
    "\n",
    "print(\"Average Mental Health Score in the USA:\", usa_average.values[0])\n",
    "print(\n",
    "    \"Average Mental Health Score in the Rest of the World:\",\n",
    "    rest_of_world_average.values[0],\n",
    ")"
   ]
  },
  {
   "cell_type": "markdown",
   "id": "a43a9daf",
   "metadata": {},
   "source": [
    "The mental health situation in the USA seems to be much more dire in the USA compared to the rest of the world. That's why it's imperative that employers in the USA take action.<br><br>\n",
    "## Ethnicity and mental health.\n",
    "We need to investigate if race affects mental health, but it's also important to consider where people are living. For example, we might find different results for individuals who are living in a country that is different from where their race is predominantly from.<br><br>\n",
    "For the purposes of this we will only be looking at the different races that are residents of USA."
   ]
  },
  {
   "cell_type": "code",
   "execution_count": 42,
   "id": "33a4a979",
   "metadata": {},
   "outputs": [
    {
     "data": {
      "text/html": [
       "<div>\n",
       "<style scoped>\n",
       "    .dataframe tbody tr th:only-of-type {\n",
       "        vertical-align: middle;\n",
       "    }\n",
       "\n",
       "    .dataframe tbody tr th {\n",
       "        vertical-align: top;\n",
       "    }\n",
       "\n",
       "    .dataframe thead th {\n",
       "        text-align: right;\n",
       "    }\n",
       "</style>\n",
       "<table border=\"1\" class=\"dataframe\">\n",
       "  <thead>\n",
       "    <tr style=\"text-align: right;\">\n",
       "      <th></th>\n",
       "      <th>AnswerText</th>\n",
       "      <th>COUNT(*)</th>\n",
       "    </tr>\n",
       "  </thead>\n",
       "  <tbody>\n",
       "    <tr>\n",
       "      <th>0</th>\n",
       "      <td>White</td>\n",
       "      <td>873</td>\n",
       "    </tr>\n",
       "    <tr>\n",
       "      <th>1</th>\n",
       "      <td>-1</td>\n",
       "      <td>537</td>\n",
       "    </tr>\n",
       "    <tr>\n",
       "      <th>2</th>\n",
       "      <td>More than one of the above</td>\n",
       "      <td>35</td>\n",
       "    </tr>\n",
       "    <tr>\n",
       "      <th>3</th>\n",
       "      <td>Asian</td>\n",
       "      <td>31</td>\n",
       "    </tr>\n",
       "    <tr>\n",
       "      <th>4</th>\n",
       "      <td>I prefer not to answer</td>\n",
       "      <td>29</td>\n",
       "    </tr>\n",
       "    <tr>\n",
       "      <th>5</th>\n",
       "      <td>Black or African American</td>\n",
       "      <td>15</td>\n",
       "    </tr>\n",
       "    <tr>\n",
       "      <th>6</th>\n",
       "      <td>White Hispanic</td>\n",
       "      <td>1</td>\n",
       "    </tr>\n",
       "    <tr>\n",
       "      <th>7</th>\n",
       "      <td>Hispanic</td>\n",
       "      <td>1</td>\n",
       "    </tr>\n",
       "    <tr>\n",
       "      <th>8</th>\n",
       "      <td>European American</td>\n",
       "      <td>1</td>\n",
       "    </tr>\n",
       "    <tr>\n",
       "      <th>9</th>\n",
       "      <td>Caucasian</td>\n",
       "      <td>1</td>\n",
       "    </tr>\n",
       "  </tbody>\n",
       "</table>\n",
       "</div>"
      ],
      "text/plain": [
       "                   AnswerText  COUNT(*)\n",
       "0                       White       873\n",
       "1                          -1       537\n",
       "2  More than one of the above        35\n",
       "3                       Asian        31\n",
       "4      I prefer not to answer        29\n",
       "5   Black or African American        15\n",
       "6              White Hispanic         1\n",
       "7                    Hispanic         1\n",
       "8           European American         1\n",
       "9                   Caucasian         1"
      ]
     },
     "execution_count": 42,
     "metadata": {},
     "output_type": "execute_result"
    }
   ],
   "source": [
    "race_query = \"\"\"\n",
    "              SELECT AnswerText,\n",
    "                     COUNT(*)\n",
    "              FROM Answer\n",
    "              WHERE QuestionID = 89\n",
    "              GROUP BY AnswerText\n",
    "              ORDER BY COUNT(*) DESC\n",
    "\"\"\"\n",
    "\n",
    "race_df = pd.read_sql_query(race_query, conn)\n",
    "race_df.head(10)"
   ]
  },
  {
   "cell_type": "markdown",
   "id": "559b5f64",
   "metadata": {},
   "source": [
    "Unfortunately there isn't enough data to perform such an analysis. So let's move on to the next topic.<br><br>\n",
    "### Remote work and mental health.\n",
    "Let's see how remote worker's mental health compares to office workers and people who work remotely 50% of the time."
   ]
  },
  {
   "cell_type": "code",
   "execution_count": 43,
   "id": "1c7c6d5f",
   "metadata": {},
   "outputs": [
    {
     "data": {
      "text/html": [
       "<div>\n",
       "<style scoped>\n",
       "    .dataframe tbody tr th:only-of-type {\n",
       "        vertical-align: middle;\n",
       "    }\n",
       "\n",
       "    .dataframe tbody tr th {\n",
       "        vertical-align: top;\n",
       "    }\n",
       "\n",
       "    .dataframe thead th {\n",
       "        text-align: right;\n",
       "    }\n",
       "</style>\n",
       "<table border=\"1\" class=\"dataframe\">\n",
       "  <thead>\n",
       "    <tr style=\"text-align: right;\">\n",
       "      <th></th>\n",
       "      <th>AnswerText</th>\n",
       "      <th>COUNT(*)</th>\n",
       "    </tr>\n",
       "  </thead>\n",
       "  <tbody>\n",
       "    <tr>\n",
       "      <th>0</th>\n",
       "      <td>Maybe</td>\n",
       "      <td>487</td>\n",
       "    </tr>\n",
       "    <tr>\n",
       "      <th>1</th>\n",
       "      <td>No</td>\n",
       "      <td>438</td>\n",
       "    </tr>\n",
       "    <tr>\n",
       "      <th>2</th>\n",
       "      <td>-1</td>\n",
       "      <td>287</td>\n",
       "    </tr>\n",
       "    <tr>\n",
       "      <th>3</th>\n",
       "      <td>Yes</td>\n",
       "      <td>221</td>\n",
       "    </tr>\n",
       "  </tbody>\n",
       "</table>\n",
       "</div>"
      ],
      "text/plain": [
       "  AnswerText  COUNT(*)\n",
       "0      Maybe       487\n",
       "1         No       438\n",
       "2         -1       287\n",
       "3        Yes       221"
      ]
     },
     "execution_count": 43,
     "metadata": {},
     "output_type": "execute_result"
    }
   ],
   "source": [
    "remote_query = \"\"\"\n",
    "                SELECT AnswerText,\n",
    "                       COUNT(*)\n",
    "                FROM Answer\n",
    "                WHERE QuestionID = 104\n",
    "                GROUP BY AnswerText\n",
    "                ORDER BY COUNT(*) DESC\n",
    "               \"\"\"\n",
    "\n",
    "remote_df = pd.read_sql_query(remote_query, conn)\n",
    "remote_df.head(10)"
   ]
  },
  {
   "cell_type": "markdown",
   "id": "d1dcaba7",
   "metadata": {},
   "source": [
    "Hmm, I'm not sure how someone could answer 'Maybe' to such a direct question. We will be using the rows with 'Yes' and 'No.<br><br>\n",
    "There is another question for workers who work remotely 50% of the time."
   ]
  },
  {
   "cell_type": "code",
   "execution_count": 44,
   "id": "b39ee512",
   "metadata": {},
   "outputs": [
    {
     "data": {
      "text/html": [
       "<div>\n",
       "<style scoped>\n",
       "    .dataframe tbody tr th:only-of-type {\n",
       "        vertical-align: middle;\n",
       "    }\n",
       "\n",
       "    .dataframe tbody tr th {\n",
       "        vertical-align: top;\n",
       "    }\n",
       "\n",
       "    .dataframe thead th {\n",
       "        text-align: right;\n",
       "    }\n",
       "</style>\n",
       "<table border=\"1\" class=\"dataframe\">\n",
       "  <thead>\n",
       "    <tr style=\"text-align: right;\">\n",
       "      <th></th>\n",
       "      <th>AnswerText</th>\n",
       "      <th>COUNT(*)</th>\n",
       "    </tr>\n",
       "  </thead>\n",
       "  <tbody>\n",
       "    <tr>\n",
       "      <th>0</th>\n",
       "      <td>-1</td>\n",
       "      <td>1345</td>\n",
       "    </tr>\n",
       "    <tr>\n",
       "      <th>1</th>\n",
       "      <td>0</td>\n",
       "      <td>119</td>\n",
       "    </tr>\n",
       "    <tr>\n",
       "      <th>2</th>\n",
       "      <td>1</td>\n",
       "      <td>61</td>\n",
       "    </tr>\n",
       "  </tbody>\n",
       "</table>\n",
       "</div>"
      ],
      "text/plain": [
       "  AnswerText  COUNT(*)\n",
       "0         -1      1345\n",
       "1          0       119\n",
       "2          1        61"
      ]
     },
     "execution_count": 44,
     "metadata": {},
     "output_type": "execute_result"
    }
   ],
   "source": [
    "remote_50_query = \"\"\"\n",
    "                   SELECT AnswerText,\n",
    "                          COUNT(*)\n",
    "                   FROM Answer\n",
    "                   WHERE QuestionID = 79\n",
    "                   GROUP BY AnswerText\n",
    "                   ORDER BY COUNT(*) DESC\n",
    "                  \"\"\"\n",
    "\n",
    "remote_50_df = pd.read_sql_query(remote_50_query, conn)\n",
    "remote_50_df.head(10)"
   ]
  },
  {
   "cell_type": "markdown",
   "id": "b8b8e2ce",
   "metadata": {},
   "source": [
    "We will take the 61 values of '1' and add those to our analysis.<br><br>\n",
    "Let's combine all of the information for users who answered about remote work and their mental health."
   ]
  },
  {
   "cell_type": "code",
   "execution_count": 45,
   "id": "821cf3fb",
   "metadata": {},
   "outputs": [
    {
     "data": {
      "text/plain": [
       "(1977, 3)"
      ]
     },
     "execution_count": 45,
     "metadata": {},
     "output_type": "execute_result"
    }
   ],
   "source": [
    "remote_mental_health_query = \"\"\"\n",
    "                              SELECT a.UserID,\n",
    "                              CASE WHEN a.AnswerText = 'No' THEN 0\n",
    "                                   WHEN a.AnswerText = \"Don't Know\" THEN 0.25\n",
    "                                   WHEN a.AnswerText = 'Maybe' THEN 0.5\n",
    "                                   WHEN a.AnswerText = 'Possibly' THEN 0.75\n",
    "                                   WHEN a.AnswerText = 'Yes' THEN 1\n",
    "                                   END AS mental_health,\n",
    "                                   sub.AnswerText\n",
    "                              FROM Answer AS a\n",
    "                              JOIN (\n",
    "                                    SELECT UserID,\n",
    "                                           AnswerText\n",
    "                                    FROM Answer\n",
    "                                    WHERE QuestionID = 104 AND AnswerText IN ('Yes', 'No')\n",
    "                                   ) sub\n",
    "                              ON a.UserID = sub.UserID\n",
    "                              WHERE a.QuestionID IN (32, 33, 34) AND \n",
    "                                    a.AnswerText <> '-1'\n",
    "                              \"\"\"\n",
    "\n",
    "remote_mental_health_df = pd.read_sql_query(remote_mental_health_query, conn)\n",
    "remote_mental_health_df.shape"
   ]
  },
  {
   "cell_type": "code",
   "execution_count": 46,
   "id": "4a95a954",
   "metadata": {},
   "outputs": [
    {
     "data": {
      "text/html": [
       "<div>\n",
       "<style scoped>\n",
       "    .dataframe tbody tr th:only-of-type {\n",
       "        vertical-align: middle;\n",
       "    }\n",
       "\n",
       "    .dataframe tbody tr th {\n",
       "        vertical-align: top;\n",
       "    }\n",
       "\n",
       "    .dataframe thead th {\n",
       "        text-align: right;\n",
       "    }\n",
       "</style>\n",
       "<table border=\"1\" class=\"dataframe\">\n",
       "  <thead>\n",
       "    <tr style=\"text-align: right;\">\n",
       "      <th></th>\n",
       "      <th>UserID</th>\n",
       "      <th>mental_health</th>\n",
       "      <th>AnswerText</th>\n",
       "    </tr>\n",
       "  </thead>\n",
       "  <tbody>\n",
       "    <tr>\n",
       "      <th>0</th>\n",
       "      <td>1261</td>\n",
       "      <td>0.0</td>\n",
       "      <td>No</td>\n",
       "    </tr>\n",
       "    <tr>\n",
       "      <th>1</th>\n",
       "      <td>1261</td>\n",
       "      <td>1.0</td>\n",
       "      <td>No</td>\n",
       "    </tr>\n",
       "    <tr>\n",
       "      <th>2</th>\n",
       "      <td>1261</td>\n",
       "      <td>1.0</td>\n",
       "      <td>No</td>\n",
       "    </tr>\n",
       "    <tr>\n",
       "      <th>3</th>\n",
       "      <td>1262</td>\n",
       "      <td>1.0</td>\n",
       "      <td>No</td>\n",
       "    </tr>\n",
       "    <tr>\n",
       "      <th>4</th>\n",
       "      <td>1262</td>\n",
       "      <td>1.0</td>\n",
       "      <td>No</td>\n",
       "    </tr>\n",
       "  </tbody>\n",
       "</table>\n",
       "</div>"
      ],
      "text/plain": [
       "   UserID  mental_health AnswerText\n",
       "0    1261            0.0         No\n",
       "1    1261            1.0         No\n",
       "2    1261            1.0         No\n",
       "3    1262            1.0         No\n",
       "4    1262            1.0         No"
      ]
     },
     "execution_count": 46,
     "metadata": {},
     "output_type": "execute_result"
    }
   ],
   "source": [
    "remote_mental_health_df.head(5)"
   ]
  },
  {
   "cell_type": "code",
   "execution_count": 47,
   "id": "33655adc",
   "metadata": {},
   "outputs": [
    {
     "data": {
      "text/html": [
       "<div>\n",
       "<style scoped>\n",
       "    .dataframe tbody tr th:only-of-type {\n",
       "        vertical-align: middle;\n",
       "    }\n",
       "\n",
       "    .dataframe tbody tr th {\n",
       "        vertical-align: top;\n",
       "    }\n",
       "\n",
       "    .dataframe thead th {\n",
       "        text-align: right;\n",
       "    }\n",
       "</style>\n",
       "<table border=\"1\" class=\"dataframe\">\n",
       "  <thead>\n",
       "    <tr style=\"text-align: right;\">\n",
       "      <th></th>\n",
       "      <th>mental_health</th>\n",
       "      <th>AnswerText</th>\n",
       "    </tr>\n",
       "    <tr>\n",
       "      <th>UserID</th>\n",
       "      <th></th>\n",
       "      <th></th>\n",
       "    </tr>\n",
       "  </thead>\n",
       "  <tbody>\n",
       "    <tr>\n",
       "      <th>1261</th>\n",
       "      <td>0.666667</td>\n",
       "      <td>No</td>\n",
       "    </tr>\n",
       "    <tr>\n",
       "      <th>1262</th>\n",
       "      <td>1.000000</td>\n",
       "      <td>No</td>\n",
       "    </tr>\n",
       "    <tr>\n",
       "      <th>1265</th>\n",
       "      <td>1.000000</td>\n",
       "      <td>Yes</td>\n",
       "    </tr>\n",
       "    <tr>\n",
       "      <th>1266</th>\n",
       "      <td>0.333333</td>\n",
       "      <td>Yes</td>\n",
       "    </tr>\n",
       "    <tr>\n",
       "      <th>1267</th>\n",
       "      <td>0.000000</td>\n",
       "      <td>No</td>\n",
       "    </tr>\n",
       "    <tr>\n",
       "      <th>1268</th>\n",
       "      <td>1.000000</td>\n",
       "      <td>No</td>\n",
       "    </tr>\n",
       "    <tr>\n",
       "      <th>1269</th>\n",
       "      <td>1.000000</td>\n",
       "      <td>Yes</td>\n",
       "    </tr>\n",
       "    <tr>\n",
       "      <th>1271</th>\n",
       "      <td>1.000000</td>\n",
       "      <td>No</td>\n",
       "    </tr>\n",
       "    <tr>\n",
       "      <th>1272</th>\n",
       "      <td>1.000000</td>\n",
       "      <td>Yes</td>\n",
       "    </tr>\n",
       "    <tr>\n",
       "      <th>1273</th>\n",
       "      <td>1.000000</td>\n",
       "      <td>No</td>\n",
       "    </tr>\n",
       "  </tbody>\n",
       "</table>\n",
       "</div>"
      ],
      "text/plain": [
       "        mental_health AnswerText\n",
       "UserID                          \n",
       "1261         0.666667         No\n",
       "1262         1.000000         No\n",
       "1265         1.000000        Yes\n",
       "1266         0.333333        Yes\n",
       "1267         0.000000         No\n",
       "1268         1.000000         No\n",
       "1269         1.000000        Yes\n",
       "1271         1.000000         No\n",
       "1272         1.000000        Yes\n",
       "1273         1.000000         No"
      ]
     },
     "execution_count": 47,
     "metadata": {},
     "output_type": "execute_result"
    }
   ],
   "source": [
    "remote_mental_health_df1 = remote_mental_health_df[[\"UserID\", \"mental_health\"]]\n",
    "remote_mental_health_df1 = remote_mental_health_df1.groupby(\"UserID\").agg(\n",
    "    {\"mental_health\": \"mean\"}\n",
    ")\n",
    "remote_mental_health_df2 = remote_mental_health_df.groupby(\"UserID\").agg(\n",
    "    {\"AnswerText\": \"first\"}\n",
    ")\n",
    "\n",
    "remote_mental_health_df1.reset_index(inplace=True)\n",
    "\n",
    "remote_mental_df_full = remote_mental_health_df1.merge(\n",
    "    remote_mental_health_df2, on=\"UserID\"\n",
    ")\n",
    "remote_mental_df_full = remote_mental_df_full.set_index(\"UserID\")\n",
    "remote_mental_df_full.head(10)"
   ]
  },
  {
   "cell_type": "code",
   "execution_count": 48,
   "id": "abf8e97f",
   "metadata": {},
   "outputs": [
    {
     "data": {
      "text/html": [
       "<div>\n",
       "<style scoped>\n",
       "    .dataframe tbody tr th:only-of-type {\n",
       "        vertical-align: middle;\n",
       "    }\n",
       "\n",
       "    .dataframe tbody tr th {\n",
       "        vertical-align: top;\n",
       "    }\n",
       "\n",
       "    .dataframe thead th {\n",
       "        text-align: right;\n",
       "    }\n",
       "</style>\n",
       "<table border=\"1\" class=\"dataframe\">\n",
       "  <thead>\n",
       "    <tr style=\"text-align: right;\">\n",
       "      <th></th>\n",
       "      <th>mental_health</th>\n",
       "      <th>AnswerText</th>\n",
       "    </tr>\n",
       "    <tr>\n",
       "      <th>UserID</th>\n",
       "      <th></th>\n",
       "      <th></th>\n",
       "    </tr>\n",
       "  </thead>\n",
       "  <tbody>\n",
       "    <tr>\n",
       "      <th>2696</th>\n",
       "      <td>0.666667</td>\n",
       "      <td>50%</td>\n",
       "    </tr>\n",
       "    <tr>\n",
       "      <th>2703</th>\n",
       "      <td>0.208333</td>\n",
       "      <td>50%</td>\n",
       "    </tr>\n",
       "    <tr>\n",
       "      <th>2729</th>\n",
       "      <td>0.365385</td>\n",
       "      <td>50%</td>\n",
       "    </tr>\n",
       "    <tr>\n",
       "      <th>2740</th>\n",
       "      <td>0.571429</td>\n",
       "      <td>50%</td>\n",
       "    </tr>\n",
       "    <tr>\n",
       "      <th>2746</th>\n",
       "      <td>0.500000</td>\n",
       "      <td>50%</td>\n",
       "    </tr>\n",
       "    <tr>\n",
       "      <th>2786</th>\n",
       "      <td>0.791667</td>\n",
       "      <td>50%</td>\n",
       "    </tr>\n",
       "    <tr>\n",
       "      <th>2815</th>\n",
       "      <td>0.812500</td>\n",
       "      <td>50%</td>\n",
       "    </tr>\n",
       "    <tr>\n",
       "      <th>2828</th>\n",
       "      <td>0.400000</td>\n",
       "      <td>50%</td>\n",
       "    </tr>\n",
       "    <tr>\n",
       "      <th>2831</th>\n",
       "      <td>0.785714</td>\n",
       "      <td>50%</td>\n",
       "    </tr>\n",
       "    <tr>\n",
       "      <th>2833</th>\n",
       "      <td>0.590909</td>\n",
       "      <td>50%</td>\n",
       "    </tr>\n",
       "  </tbody>\n",
       "</table>\n",
       "</div>"
      ],
      "text/plain": [
       "        mental_health AnswerText\n",
       "UserID                          \n",
       "2696         0.666667        50%\n",
       "2703         0.208333        50%\n",
       "2729         0.365385        50%\n",
       "2740         0.571429        50%\n",
       "2746         0.500000        50%\n",
       "2786         0.791667        50%\n",
       "2815         0.812500        50%\n",
       "2828         0.400000        50%\n",
       "2831         0.785714        50%\n",
       "2833         0.590909        50%"
      ]
     },
     "execution_count": 48,
     "metadata": {},
     "output_type": "execute_result"
    }
   ],
   "source": [
    "remote_50_query = \"\"\"\n",
    "                   SELECT a.UserID,\n",
    "                          CASE WHEN a.AnswerText = 'No' THEN 0\n",
    "                                   WHEN a.AnswerText = \"Don't Know\" THEN 0.25\n",
    "                                   WHEN a.AnswerText = 'Maybe' THEN 0.5\n",
    "                                   WHEN a.AnswerText = 'Possibly' THEN 0.75\n",
    "                                   WHEN a.AnswerText = 'Yes' THEN 1\n",
    "                                   END AS mental_health,\n",
    "                          sub.AnswerText\n",
    "                   FROM Answer AS a\n",
    "                   JOIN (\n",
    "                         SELECT UserID,\n",
    "                                AnswerText\n",
    "                                FROM Answer\n",
    "                                WHERE QuestionID = 79 AND AnswerText = '1'\n",
    "                        ) sub\n",
    "                   ON a.UserID = sub.UserID\n",
    "                   WHERE mental_health IS NOT NULL\n",
    "                  \"\"\"\n",
    "\n",
    "remote_50_df = pd.read_sql_query(remote_50_query, conn)\n",
    "remote_50_df = remote_50_df.groupby(\"UserID\").agg({\"mental_health\": \"mean\"})\n",
    "remote_50_df[\"AnswerText\"] = \"50%\"\n",
    "remote_50_df.reset_index()\n",
    "remote_50_df.head(10)"
   ]
  },
  {
   "cell_type": "code",
   "execution_count": 49,
   "id": "f5160602",
   "metadata": {},
   "outputs": [
    {
     "data": {
      "text/html": [
       "<div>\n",
       "<style scoped>\n",
       "    .dataframe tbody tr th:only-of-type {\n",
       "        vertical-align: middle;\n",
       "    }\n",
       "\n",
       "    .dataframe tbody tr th {\n",
       "        vertical-align: top;\n",
       "    }\n",
       "\n",
       "    .dataframe thead th {\n",
       "        text-align: right;\n",
       "    }\n",
       "</style>\n",
       "<table border=\"1\" class=\"dataframe\">\n",
       "  <thead>\n",
       "    <tr style=\"text-align: right;\">\n",
       "      <th></th>\n",
       "      <th>mental_health</th>\n",
       "      <th>AnswerText</th>\n",
       "    </tr>\n",
       "    <tr>\n",
       "      <th>UserID</th>\n",
       "      <th></th>\n",
       "      <th></th>\n",
       "    </tr>\n",
       "  </thead>\n",
       "  <tbody>\n",
       "    <tr>\n",
       "      <th>1261</th>\n",
       "      <td>0.666667</td>\n",
       "      <td>No</td>\n",
       "    </tr>\n",
       "    <tr>\n",
       "      <th>1262</th>\n",
       "      <td>1.000000</td>\n",
       "      <td>No</td>\n",
       "    </tr>\n",
       "    <tr>\n",
       "      <th>1265</th>\n",
       "      <td>1.000000</td>\n",
       "      <td>Yes</td>\n",
       "    </tr>\n",
       "    <tr>\n",
       "      <th>1266</th>\n",
       "      <td>0.333333</td>\n",
       "      <td>Yes</td>\n",
       "    </tr>\n",
       "    <tr>\n",
       "      <th>1267</th>\n",
       "      <td>0.000000</td>\n",
       "      <td>No</td>\n",
       "    </tr>\n",
       "    <tr>\n",
       "      <th>1268</th>\n",
       "      <td>1.000000</td>\n",
       "      <td>No</td>\n",
       "    </tr>\n",
       "    <tr>\n",
       "      <th>1269</th>\n",
       "      <td>1.000000</td>\n",
       "      <td>Yes</td>\n",
       "    </tr>\n",
       "    <tr>\n",
       "      <th>1271</th>\n",
       "      <td>1.000000</td>\n",
       "      <td>No</td>\n",
       "    </tr>\n",
       "    <tr>\n",
       "      <th>1272</th>\n",
       "      <td>1.000000</td>\n",
       "      <td>Yes</td>\n",
       "    </tr>\n",
       "    <tr>\n",
       "      <th>1273</th>\n",
       "      <td>1.000000</td>\n",
       "      <td>No</td>\n",
       "    </tr>\n",
       "  </tbody>\n",
       "</table>\n",
       "</div>"
      ],
      "text/plain": [
       "        mental_health AnswerText\n",
       "UserID                          \n",
       "1261         0.666667         No\n",
       "1262         1.000000         No\n",
       "1265         1.000000        Yes\n",
       "1266         0.333333        Yes\n",
       "1267         0.000000         No\n",
       "1268         1.000000         No\n",
       "1269         1.000000        Yes\n",
       "1271         1.000000         No\n",
       "1272         1.000000        Yes\n",
       "1273         1.000000         No"
      ]
     },
     "execution_count": 49,
     "metadata": {},
     "output_type": "execute_result"
    }
   ],
   "source": [
    "remote_work_df = pd.concat([remote_mental_df_full, remote_50_df])\n",
    "remote_work_df.head(10)"
   ]
  },
  {
   "cell_type": "code",
   "execution_count": 50,
   "id": "840cee48",
   "metadata": {
    "scrolled": false
   },
   "outputs": [
    {
     "data": {
      "image/png": "[encoded data removed]",
      "text/plain": [
       "<Figure size 600x1200 with 3 Axes>"
      ]
     },
     "metadata": {},
     "output_type": "display_data"
    }
   ],
   "source": [
    "fig, axes = plt.subplots(3, 1, figsize=(6, 12))\n",
    "\n",
    "sns.histplot(\n",
    "    data=remote_work_df[remote_work_df[\"AnswerText\"] == \"Yes\"],\n",
    "    x=\"mental_health\",\n",
    "    bins=10,\n",
    "    ax=axes[0],\n",
    "    color=\"teal\",\n",
    "    kde=True,\n",
    ")\n",
    "axes[0].set_title('Mental Health Distribution for \"Yes\"')\n",
    "\n",
    "sns.histplot(\n",
    "    data=remote_work_df[remote_work_df[\"AnswerText\"] == \"No\"],\n",
    "    x=\"mental_health\",\n",
    "    bins=10,\n",
    "    ax=axes[1],\n",
    "    color=\"indigo\",\n",
    "    kde=True,\n",
    ")\n",
    "axes[1].set_title('Mental Health Distribution for \"No\"')\n",
    "\n",
    "\n",
    "sns.histplot(\n",
    "    data=remote_work_df[remote_work_df[\"AnswerText\"] == \"50%\"],\n",
    "    x=\"mental_health\",\n",
    "    bins=10,\n",
    "    ax=axes[2],\n",
    "    color=\"steelblue\",\n",
    "    kde=True,\n",
    ")\n",
    "axes[2].set_title('Mental Health Distribution for \"50%\"')\n",
    "plt.subplots_adjust(hspace=0.4)\n",
    "plt.suptitle(\"Mental health distributions in relation to remote work\")\n",
    "plt.show()"
   ]
  },
  {
   "cell_type": "markdown",
   "id": "3c7a06e0",
   "metadata": {},
   "source": [
    "So from this data we can see that people who do not engage in remote work have slightly more values on the left side indicating better mental health and people working remotely 50% of the time exhibit poor scores, however there is a low amount of entries for these people so it would require more data."
   ]
  },
  {
   "cell_type": "markdown",
   "id": "147d5325",
   "metadata": {},
   "source": [
    "# 5. Summary.\n",
    "\n",
    "  In general there doesn't seem to be a strong relationship between tech and non-tech workers' remote health. If anything tech workers seem to exhibit just slightly better mental health with the exception being female workers in tech who are struggling more with these issues.\n",
    "  <br><br>\n",
    "  We need more data to understand how race and remote work influences mental health, but not working remotely seems to be in favor of mental health slightly over full-on remote work.\n",
    "  <br><br>\n",
    "  The workers in USA exhibit much more mental health concerns than the rest of the world.\n",
    "  <br><br>\n",
    "In the future we need to investigate this dataset more deeply as it has a ton of information from all sorts of questions. We could use a keyword analysis for some questions, do sentiment analysis and apply machine learning algorithms to better understand which people are at risk from which factors in the workplace."
   ]
  }
 ],
 "metadata": {
  "kernelspec": {
   "display_name": "Python 3 (ipykernel)",
   "language": "python",
   "name": "python3"
  },
  "language_info": {
   "codemirror_mode": {
    "name": "ipython",
    "version": 3
   },
   "file_extension": ".py",
   "mimetype": "text/x-python",
   "name": "python",
   "nbconvert_exporter": "python",
   "pygments_lexer": "ipython3",
   "version": "3.11.5"
  }
 },
 "nbformat": 4,
 "nbformat_minor": 5
}
